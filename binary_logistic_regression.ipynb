{
 "cells": [
  {
   "metadata": {},
   "cell_type": "markdown",
   "source": [
    "Up until this notebook, we've used an output layer that is a probability distribution, where all of the values represent a confidence level of a given class being the correct class, and where these confidences sum to *1*.\n",
    "\n",
    "We're now going to cover an alternate output layer option, where each neuron separately represents two classes - 0 for one the classes, and a 1 for the other. A model with this type of output is called **binary logistic regression**. this single neuron could represent two classes like *cats* vs. *dogs*, but it could also represent *cat* vs. *not cat* or any combination of 2 classes, and we could have many of these.\n",
    "\n",
    "For example, a model may have two binary output neurons. One of these neurons could be distinguishing between *person/not person*, and the other neuron could be deciding between *indoors/outdoors*.\n",
    "\n",
    "Binary logistic regression is a regressor type of algorithm, which will differ as we'll use a **sigmoid** activation funtion for the output layer rather than softmax, and **binary cross-entropy** rather than categorical cross-entropy for calculating loss."
   ],
   "id": "8ea35a0ba392bdb5"
  },
  {
   "metadata": {},
   "cell_type": "markdown",
   "source": "# Sigmoid Activation Function",
   "id": "343f7e2b1c8fc43f"
  },
  {
   "metadata": {},
   "cell_type": "markdown",
   "source": [
    "The sigmoid function is used with regressors because it \"squishes\" a range of outputs from negative infinity to positive infinity to be between 0 and 1. The bounds represent thw two possible classes. The sigmoid equation is:\n",
    "\n",
    "$\n",
    "\\sigma_i,_j = \\frac{1}{1 + e^{-x}}\\\n",
    "$\n",
    "\n",
    "The denomiator of the Sigmoid function contains *e* raised to the power of *z_i,j*, where *z*, given indices, means a singular output value of the layer that this activation takes as input. The index *i* means the current sample, and the index *j* means the current output in this sample.\n"
   ],
   "id": "bd6fa37d4a6fd570"
  },
  {
   "metadata": {
    "ExecuteTime": {
     "end_time": "2025-05-01T05:25:17.915202Z",
     "start_time": "2025-05-01T05:25:17.801202Z"
    }
   },
   "cell_type": "code",
   "source": [
    "import numpy as np\n",
    "import matplotlib.pyplot as plt\n",
    "\n",
    "def sigmoid(x):\n",
    "    return 1 / (1 + np.exp(-x))\n",
    "\n",
    "x = np.linspace(-10, 10, 100)\n",
    "y = sigmoid(x)\n",
    "\n",
    "plt.figure(figsize=(8,4))\n",
    "plt.plot(x, y, label=r'$\\sigma(x) = \\frac{1}{1 + e^{-x}}$', color='blue', linewidth=2)\n",
    "\n",
    "plt.axhline(y=0, color='black', linewidth=0.5)  # x-axis line\n",
    "plt.axvline(x=0, color='black', linewidth=0.5)  # y-axis line\n",
    "\n",
    "plt.title('Sigmoid Function', fontsize=13)\n",
    "plt.xlabel('x', fontsize=12)\n",
    "plt.ylabel(r'$\\sigma(x)$', fontsize=12)\n",
    "plt.legend(fontsize=12)\n",
    "\n",
    "plt.show()"
   ],
   "id": "13527553ab5a6f9d",
   "outputs": [
    {
     "data": {
      "text/plain": [
       "<Figure size 800x400 with 1 Axes>"
      ],
      "image/png": "[encoded data removed]"
     },
     "metadata": {},
     "output_type": "display_data"
    }
   ],
   "execution_count": 6
  },
  {
   "metadata": {},
   "cell_type": "markdown",
   "source": [
    "The sigmoid function approaches both maximum and minimum values exponentially fast. For example, for input of 2, output is ~0.8, 3 outputs ~0.95, -2 outputs -.12, -3 output ~0.05. This makes the sigmoid activation function a good candidate to apply to the final layer's output with a binary logistic regression model.\n",
    "\n",
    "For commonly-used functions, such as the sigmoid function, the derivative are almost always public knowledge. The sigmoid function's derivative solves to\n",
    "\n",
    "$\n",
    "\\sigma_i,_j(1 - \\sigma_i,_j)\n",
    "$"
   ],
   "id": "8004229f5faaa409"
  },
  {
   "metadata": {},
   "cell_type": "markdown",
   "source": "## Sigmoid Function Derivative\n",
   "id": "c9890d09b89a258e"
  },
  {
   "metadata": {},
   "cell_type": "markdown",
   "source": [
    "$$\n",
    "\\sigma(z) = \\frac{1}{1 + e^{-z}} \\Rightarrow \\frac{d}{dz} \\sigma(z) = \\frac{d}{dz} \\left( \\frac{1}{1 + e^{-z}} \\right)\n",
    "$$\n",
    "\n",
    "$$\n",
    "= \\frac{d}{dz} \\left( 1 + e^{-z} \\right)^{-1} = -1 \\cdot \\left(1 + e^{-z} \\right)^{-2} \\cdot \\frac{d}{dz} (1 + e^{-z})\n",
    "$$\n",
    "\n",
    "$$\n",
    "= -\\left(1 + e^{-z} \\right)^{-2} \\cdot \\left( 0 + (-1)e^{-z} \\right) = \\frac{e^{-z}}{(1 + e^{-z})^2}\n",
    "$$\n",
    "\n",
    "$$\n",
    "= \\left( \\frac{1}{1 + e^{-z}} \\right) \\cdot \\left( \\frac{e^{-z}}{1 + e^{-z}} \\right) = \\sigma(z) \\cdot (1 - \\sigma(z))\n",
    "$$\n"
   ],
   "id": "c5b7bcccba06206e"
  },
  {
   "metadata": {},
   "cell_type": "markdown",
   "source": "## Sigmoid Function Code",
   "id": "fba676db21347525"
  },
  {
   "metadata": {
    "ExecuteTime": {
     "end_time": "2025-05-01T05:41:12.529121Z",
     "start_time": "2025-05-01T05:41:12.524937Z"
    }
   },
   "cell_type": "code",
   "source": [
    "class Activation_Sigmoid:\n",
    "\n",
    "    def forward(self, inputs):\n",
    "        self.inputs = inputs\n",
    "        self.output = 1 / (1 + np.exp(inputs))\n",
    "\n",
    "    def backward(self, dvalues):\n",
    "        self.dinputs = dvalues * (1 - self.output) * self.output"
   ],
   "id": "6c6c87539fe5b1a1",
   "outputs": [],
   "execution_count": 7
  },
  {
   "metadata": {},
   "cell_type": "markdown",
   "source": [
    "# Binary Cross-Entropy Loss\n",
    "\n",
    "To calculate binary cross-entropy loss, we will continue to use the negative log concep from categorical cross-entropy loss. Rather than only calculating this on the target class, we will sum the log-likelihoods of the correct and incorrect classes for each neuron separately. Because class values are either 0 or 1, we can simplify the incorrect class to be *1 - correct class* as this inverts the value. We can then calculate the negative log-likehood of the correct and incorrect classes, adding them together.\n",
    "\n",
    "$\n",
    "L_i,_j = (y_i,_j)(-log(y^_i_j)) + (1 - y_i,_j)(-log(1 - y^_i,_j))\n",
    "       = -y_i,_j.log(y^_i,_j) - (1 - y_i_j).log(1 - y^_i,_j)\n",
    "$\n",
    "\n",
    "Since a model can contain multiple binary outputs, and each of them, unlike in the cross-entropy loss, outputs its own prediction, loss calculated on a single output is going to be a vector of losses containing one value for each output. What we need is a sample loss and, to achieve that, we need to calculate a mean of all of these losses from a single sample.\n",
    "\n",
    "<code>\n",
    "\n",
    "sample_losses = np.mean(sample_losses, axis=-1)\n",
    "\n",
    "</code>\n",
    "\n",
    "The last parameter, `axis=-1`, informs NumPy to calculate the mean values along the last dimension. To make it easier to visualize, let's use a simple example. Assume that this is an output of the model containing 3 neurons in the output layer, and it's passed through the binary cross-entropy loss function:"
   ],
   "id": "fb3eab5bb035b856"
  },
  {
   "metadata": {
    "ExecuteTime": {
     "end_time": "2025-05-01T05:54:27.973488Z",
     "start_time": "2025-05-01T05:54:27.969746Z"
    }
   },
   "cell_type": "code",
   "source": [
    "outputs = np.array([[1, 2, 3],\n",
    "                    [2, 4, 6],\n",
    "                    [0, 5, 10],\n",
    "                    [11, 12, 13],\n",
    "                    [5, 10, 15]])\n"
   ],
   "id": "e374aae6c70c1cc2",
   "outputs": [],
   "execution_count": 8
  },
  {
   "metadata": {},
   "cell_type": "markdown",
   "source": "We want to take each of the output vectors, [1, 2, 3] for example, and calculate a mean value from the numbers they hold, putting the result on the output vector. We then want to repeat this for the other vectors and return the resulting vector, which will ne a one-dimensional array:",
   "id": "7a6a3e4af50749"
  },
  {
   "metadata": {
    "ExecuteTime": {
     "end_time": "2025-05-01T05:55:49.348382Z",
     "start_time": "2025-05-01T05:55:49.343878Z"
    }
   },
   "cell_type": "code",
   "source": "np.mean(outputs, axis=-1)",
   "id": "39ab436a42c3fc36",
   "outputs": [
    {
     "data": {
      "text/plain": [
       "array([ 2.,  4.,  5., 12., 10.])"
      ]
     },
     "execution_count": 9,
     "metadata": {},
     "output_type": "execute_result"
    }
   ],
   "execution_count": 9
  },
  {
   "metadata": {},
   "cell_type": "markdown",
   "source": "We are also going to inherit from the **Loss** class, so the overall loss calculation will be handled by the `calculate` method that we already created for the categorical cross-entropy loss class.",
   "id": "27bdfeda03586b01"
  },
  {
   "metadata": {},
   "cell_type": "markdown",
   "source": "## Binary Cross-Entropy Loss Derivative",
   "id": "bc2546696cffd551"
  },
  {
   "metadata": {},
   "cell_type": "markdown",
   "source": [
    "## Binary Cross-Entropy Code\n",
    "\n",
    "In our code, it looks like:"
   ],
   "id": "ff9fb1065ceec15b"
  },
  {
   "metadata": {},
   "cell_type": "code",
   "source": [
    "dvalues = outputs\n",
    "\n",
    "samples = len(dvalues)\n",
    "\n",
    "# Number of outputs in every sample\n",
    "# We'll use the first sample to count them\n",
    "outputs = len(dvalues[0])\n",
    "\n",
    "# Calculate gradient\n",
    "self.dinputs = -(y_true / clippe_dvalues - \\\n",
    "                 (1 - y_true) / (1 - clipped_dvalues)) / outputs\n"
   ],
   "id": "86200e4b1778158",
   "outputs": [],
   "execution_count": null
  },
  {
   "metadata": {},
   "cell_type": "markdown",
   "source": "Similar to what we did in the categorical cross-entropy loss, we need to normalize gradient so it'll become invariant to the number of samples we calculate it for:\n",
   "id": "c1197ff83dc519d4"
  },
  {
   "metadata": {},
   "cell_type": "code",
   "outputs": [],
   "execution_count": null,
   "source": "self.dinputs = self.dinputs / samples",
   "id": "6d885d1155dbf9b8"
  },
  {
   "metadata": {},
   "cell_type": "markdown",
   "source": "Finally, we need to addres the numerial instability of the logarithmic function. The sigmoid activation can return a value in the range of *0* and *1* (inclusive), but the `log(0)` presents sligth issue due to how it's calculated and will return *negative infinity*. This along isn't necessarily a big deal, but any list with *-inf* in it will have a mean of *-inf*, which is the same for any list with positive infinity averaging to infinity.",
   "id": "90afbf0db053c62d"
  },
  {
   "metadata": {
    "ExecuteTime": {
     "end_time": "2025-05-02T04:58:31.223464Z",
     "start_time": "2025-05-02T04:58:31.212235Z"
    }
   },
   "cell_type": "code",
   "source": "np.log(0)",
   "id": "189da6e370588129",
   "outputs": [
    {
     "name": "stderr",
     "output_type": "stream",
     "text": [
      "C:\\Users\\linho\\AppData\\Local\\Temp\\ipykernel_13908\\1608527138.py:1: RuntimeWarning: divide by zero encountered in log\n",
      "  np.log(0)\n"
     ]
    },
    {
     "data": {
      "text/plain": [
       "np.float64(-inf)"
      ]
     },
     "execution_count": 11,
     "metadata": {},
     "output_type": "execute_result"
    }
   ],
   "execution_count": 11
  },
  {
   "metadata": {
    "ExecuteTime": {
     "end_time": "2025-05-02T04:58:45.623515Z",
     "start_time": "2025-05-02T04:58:45.614415Z"
    }
   },
   "cell_type": "code",
   "source": "print(np.mean([5, 2, 4, np.log(0)]))",
   "id": "9f055a9c4783b38e",
   "outputs": [
    {
     "name": "stdout",
     "output_type": "stream",
     "text": [
      "-inf\n"
     ]
    },
    {
     "name": "stderr",
     "output_type": "stream",
     "text": [
      "C:\\Users\\linho\\AppData\\Local\\Temp\\ipykernel_13908\\2510640258.py:1: RuntimeWarning: divide by zero encountered in log\n",
      "  print(np.mean([5, 2, 4, np.log(0)]))\n"
     ]
    }
   ],
   "execution_count": 12
  },
  {
   "metadata": {},
   "cell_type": "markdown",
   "source": "This is similar issue to the one we discussed earlier regarding categorical cross-entropy loss. To prevent this issue, we'll add clipping on the batch of values:",
   "id": "844185ae0ba8eaf3"
  },
  {
   "metadata": {},
   "cell_type": "code",
   "outputs": [],
   "execution_count": null,
   "source": [
    "y_pred_clipped = np.clip(y_pred, 1e-7, 1 - 1e-7)\n",
    "\n",
    "# We use this for the forward pass as well\n",
    "sample_losses = -(y_true * np.log(y_pred_clipped) + \\\n",
    "                  (1 - y_true) * np.log(1 - y_pred_clipped))"
   ],
   "id": "d8360daa70180b86"
  },
  {
   "metadata": {},
   "cell_type": "markdown",
   "source": "As we perform the division operation durint the derivative calculation, the gradient passed in may contain both values, *0* and *1*. Either of these values will cause a problem in either the `y_true / dvalues` or `(1 - y_true) / (1 - dvalues)` parts respectively (*0* in the first and *1-1=0* in the second case will also cause division by *0*, so need to clip this gradient as well:",
   "id": "e3075019eff4154d"
  },
  {
   "metadata": {
    "ExecuteTime": {
     "end_time": "2025-05-02T05:05:23.568771Z",
     "start_time": "2025-05-02T05:05:23.560345Z"
    }
   },
   "cell_type": "code",
   "source": "clipped_dvalues = np.clip(dvalues, 1e-7, 1 - 1e-7)",
   "id": "1c10a62ae99c49f7",
   "outputs": [
    {
     "data": {
      "text/plain": [
       "np.float64(0.9999999)"
      ]
     },
     "execution_count": 17,
     "metadata": {},
     "output_type": "execute_result"
    }
   ],
   "execution_count": 17
  },
  {
   "metadata": {},
   "cell_type": "code",
   "source": [
    "class Lost_BinaryCrossentropy(Loss):\n",
    "\n",
    "    def forward(self, y_pred, y_true):\n",
    "\n",
    "        y_pred_clipped = np.clip(y_pred, 1e-7, 1 - 1e-7)\n",
    "\n",
    "        sample_losses = -(y_true * np.log(y_pred_clipped) + \\\n",
    "                          (1 - y_true) * np.log(1 - y_pred_clipped))\n",
    "        sample_losses = np.mean(sample_losses, axis=-1)\n",
    "\n",
    "        return sample_losses\n",
    "\n",
    "    def backward(self, dvalues, y_true):\n",
    "        samples = len(dvalues)\n",
    "        outputs = len(dvalues[0])\n",
    "\n",
    "        clipped_dvalues = np.clip(dvalues, 1e-7, 1 - 1e-7)\n",
    "\n",
    "        self.dinputs = -(y_true / clipped_dvalues - \\\n",
    "                         (1 - y_true) / (1 - clipped_dvalues)) / outputs\n",
    "        self.dinputs = self.dinputs / samples"
   ],
   "id": "df785abc600b94d3",
   "outputs": [],
   "execution_count": null
  },
  {
   "metadata": {},
   "cell_type": "markdown",
   "source": "# Implementing Binary Logistic Regression and Binary Cross-Entropy Loss",
   "id": "2bf1fe06a2ff50cb"
  },
  {
   "metadata": {},
   "cell_type": "markdown",
   "source": "With these new classes, our code changes will be in the executtion of actual code (instead of modifying the classes). The first is to make the `spiral_data` object output 2 classes, rather than 3:\n",
   "id": "97655c797c421398"
  },
  {
   "metadata": {
    "ExecuteTime": {
     "end_time": "2025-05-02T05:12:35.426797Z",
     "start_time": "2025-05-02T05:12:35.293980Z"
    }
   },
   "cell_type": "code",
   "source": [
    "import nnfs\n",
    "from nnfs.datasets import spiral_data"
   ],
   "id": "b0eef0c039ebf1b7",
   "outputs": [],
   "execution_count": 19
  },
  {
   "metadata": {
    "ExecuteTime": {
     "end_time": "2025-05-02T05:12:49.590222Z",
     "start_time": "2025-05-02T05:12:48.751130Z"
    }
   },
   "cell_type": "code",
   "source": "X, y = spiral_data(samples=100, classes=2)\n",
   "id": "ce570590a4cbc9a6",
   "outputs": [],
   "execution_count": 20
  },
  {
   "metadata": {},
   "cell_type": "markdown",
   "source": "Next. we'll reshape our labels, as they're not sparse anymore. They're binary, *0* or *1*:",
   "id": "a210808b255b306a"
  },
  {
   "metadata": {
    "ExecuteTime": {
     "end_time": "2025-05-02T05:14:36.007976Z",
     "start_time": "2025-05-02T05:14:35.999603Z"
    }
   },
   "cell_type": "code",
   "source": [
    "# reshape labels to be a list of lists\n",
    "# inner list contains one output (either 0 or 1)\n",
    "# per each output neuron, 1 in this case\n",
    "y = y.reshape(-1, 1)\n",
    "print(y[:10])"
   ],
   "id": "1e85329c1e783aee",
   "outputs": [
    {
     "name": "stdout",
     "output_type": "stream",
     "text": [
      "[[0]\n",
      " [0]\n",
      " [0]\n",
      " [0]\n",
      " [0]\n",
      " [0]\n",
      " [0]\n",
      " [0]\n",
      " [0]\n",
      " [0]]\n"
     ]
    }
   ],
   "execution_count": 23
  },
  {
   "metadata": {},
   "cell_type": "markdown",
   "source": [
    "Why have we done this? initially, with the softmax classifier, the values from the `spiral_data` could be used directly as the target labels, as they contain the correct class labels in the numerical form -- an index of the correct class, where each neuron in the output layer is a separate class, for example [0, 1, 1, 0, 1]. In this case, however, we're trying to represent some binary outputs, where each neurons represents 2 possible classes on its own. For the example we're currently working on, we have single output neuron so the output from our neural network should be a tensor (array), containing one value, of a target value of either *0* or *1*, for example [[0], [1], [1], [0], [1]].\n",
    "\n",
    "The `.reshape(-1, 1)` means to reshape the data into 2 dimensions, where the second dimension contains single element, and the first dimension contains how many elements the result will contain (-1) following other conditions. We are allowed to use -1 only once in a shape with NumPy, letting us have that dimension be variable. Thanks to this ability, we do not always need the same number of samples every time, and NumPY can handle the calculation for us. In the case above, they're all *-* because the `spiral_data` function makes the dataset one class at a time, starting with 0. We will also need to reshape the y-testing data in the same way.\n",
    "\n",
    "<code>\n",
    "\n",
    "X, y = spiral_data(100, 2)\n",
    "\n",
    "y = y.reshape(-1, 1)\n",
    "\n",
    "dense1 = Layer_Dense(2, 64, weight_regularizer_l2=5e-4,\n",
    "bias_regularizer_l2=5e-4)\n",
    "\n",
    "activation1 = Activation_ReLU()\n",
    "\n",
    "\n",
    "dense2 = Layer_Dense(64, 1)\n",
    "\n",
    "activation2 = Activation_Sigmoid()\n",
    "\n",
    "</code>\n",
    "\n",
    "We're still going to use the **Rectified Linear Activation** for the hidden layer. The hidden layer activation functions don't necessarily need to change, even though we're effectively building a different type of classifier. Notice that because this is now a binary classifier, the `dense2` object has only 1 output. Its output represents exactly 2 classes (0 or 1) being mapped to one neuron. We can now select a loss function and optimizer. For the **Adam** optimizer settings, we are going to use the default learning rate and the dacaying of 5e-7.\n",
    "\n",
    "<code>\n",
    "\n",
    "loss_function = Loss_BinaryCrossentropy()\n",
    "\n",
    "optimizer = Optimizer_Adam(decay=5e-7)\n",
    "\n",
    "</code>\n",
    "\n",
    "Whie we require a different calculation for loss (since we use a differnt activation function for the output layer), we can still use the same optimizer as in the softmax classifier. Another small change is how we measure predictions. With probability distributions, we use `argmax` and determine which index is associated with the largest value, which becomes the classification result. With a binary classifier, we are determining if the output is closer to 0 or to 1. To do this, we simplify the output to:\n",
    "\n",
    "<code>\n",
    "\n",
    "predictions = (activation2.output > 0.5) * 1\n",
    "\n",
    "</code>\n",
    "\n",
    "This results in *True/False* evaluations to the statement that the output is above 0.5 for all values. *True* and *False*, when treated as numbers, are 1 and 0, respectively. For example, if we execute `int(True)`, the result will be 1. If we want to convert a list of True/False boolean values to numbers, we can't just wrap the list in `int()`. However, we can perform math operations directly on an array of boolean values and return the arithmetic aanswer.\n",
    "\n"
   ],
   "id": "98aec3d091b4f37a"
  },
  {
   "metadata": {
    "ExecuteTime": {
     "end_time": "2025-05-02T05:31:32.622169Z",
     "start_time": "2025-05-02T05:31:32.612522Z"
    }
   },
   "cell_type": "code",
   "source": [
    "a = np.array([True, False, True])\n",
    "a"
   ],
   "id": "9ba7c114d7b09cb8",
   "outputs": [
    {
     "data": {
      "text/plain": [
       "array([ True, False,  True])"
      ]
     },
     "execution_count": 24,
     "metadata": {},
     "output_type": "execute_result"
    }
   ],
   "execution_count": 24
  },
  {
   "metadata": {
    "ExecuteTime": {
     "end_time": "2025-05-02T05:31:42.851766Z",
     "start_time": "2025-05-02T05:31:42.842567Z"
    }
   },
   "cell_type": "code",
   "source": [
    "b = a*1\n",
    "b"
   ],
   "id": "9db68b7df93b25e3",
   "outputs": [
    {
     "data": {
      "text/plain": [
       "array([1, 0, 1])"
      ]
     },
     "execution_count": 25,
     "metadata": {},
     "output_type": "execute_result"
    }
   ],
   "execution_count": 25
  },
  {
   "metadata": {},
   "cell_type": "markdown",
   "source": [
    "Thus, to evaluete predictive accuracy, we can:\n",
    "\n",
    "<code>\n",
    "\n",
    "predictions = (activation2.output > 0.5) * 1\n",
    "accuracy = np.mean(predictions==y_test)\n",
    "\n",
    "</code>\n",
    "\n",
    "The `* 1* multiplication turns an array of boolean True/False values into numerical 1/0 values, respectively. We will need to implement this accuracy calculation for validation data too."
   ],
   "id": "57a86973311c8d58"
  },
  {
   "metadata": {},
   "cell_type": "markdown",
   "source": "# Full code up to this point",
   "id": "4eeff43b774654dd"
  },
  {
   "metadata": {
    "ExecuteTime": {
     "end_time": "2025-05-02T05:34:39.631544Z",
     "start_time": "2025-05-02T05:34:39.624974Z"
    }
   },
   "cell_type": "code",
   "source": [
    "import numpy as np\n",
    "import nnfs\n",
    "from nnfs.datasets import spiral_data\n",
    "\n",
    "nnfs.init()"
   ],
   "id": "45fa3c8cb385c95b",
   "outputs": [],
   "execution_count": 27
  },
  {
   "metadata": {
    "ExecuteTime": {
     "end_time": "2025-05-02T06:02:44.230829Z",
     "start_time": "2025-05-02T06:02:44.216397Z"
    }
   },
   "cell_type": "code",
   "source": [
    "class Layer_Dense:\n",
    "\n",
    "    def __init__(self, n_inputs, n_neurons,\n",
    "                 weight_regularizer_l1=0,\n",
    "                 weight_regularizer_l2=0,\n",
    "                 bias_regularizer_l1=0,\n",
    "                 bias_regularizer_l2=0):\n",
    "        self.weights = np.random.randn(n_inputs, n_neurons)\n",
    "        self.biases = np.zeros((1, n_neurons))\n",
    "        self.weight_regularizer_l1 = weight_regularizer_l1\n",
    "        self.weight_regularizer_l2 = weight_regularizer_l2\n",
    "        self.bias_regularizer_l1 = bias_regularizer_l1\n",
    "        self.bias_regularizer_l2 = bias_regularizer_l2\n",
    "\n",
    "    def forward(self, inputs):\n",
    "        self.inputs = inputs\n",
    "        self.output = np.dot(inputs, self.weights) + self.biases\n",
    "\n",
    "    def backward(self, dvalues):\n",
    "\n",
    "        self.dweights = np.dot(self.inputs.T, dvalues)\n",
    "        self.dbiases = np.sum(dvalues,\n",
    "                              axis=0,\n",
    "                              keepdims=True)\n",
    "\n",
    "        if self.weight_regularizer_l1 > 0:\n",
    "            dL1 = np.ones_like(self.weights)\n",
    "            dL1[self.weights < 0] = -1\n",
    "            self.dweights += self.weight_regularizer_l1 * dL1\n",
    "\n",
    "        if self.weight_regularizer_l2 > 0:\n",
    "            self.dweights += 2 * self.weight_regularizer_l2 * self.weights\n",
    "\n",
    "        if self.bias_regularizer_l1 > 0:\n",
    "            dL1 = np.ones_like(self.biases)\n",
    "            dL1[self.biases < 0] = -1\n",
    "            self.dbiases += self.bias_regularizer_l1 * dL1\n",
    "\n",
    "        if self.bias_regularizer_l2 > 0:\n",
    "            self.dbiases += 2 * self.bias_regularizer_l2 * self.biases\n",
    "\n",
    "        self.dinputs = np.dot(dvalues, self.weights.T)"
   ],
   "id": "7fc75bc4678afa6e",
   "outputs": [],
   "execution_count": 36
  },
  {
   "metadata": {
    "ExecuteTime": {
     "end_time": "2025-05-02T06:02:54.538234Z",
     "start_time": "2025-05-02T06:02:54.530136Z"
    }
   },
   "cell_type": "code",
   "source": [
    "print(np.random.rand(3, 3)\n",
    "      )"
   ],
   "id": "f2489c295db8c587",
   "outputs": [
    {
     "name": "stdout",
     "output_type": "stream",
     "text": [
      "[[0.22308163 0.95274901 0.44712538]\n",
      " [0.84640867 0.69947928 0.29743695]\n",
      " [0.81379782 0.39650574 0.8811032 ]]\n"
     ]
    }
   ],
   "execution_count": 37
  },
  {
   "metadata": {
    "ExecuteTime": {
     "end_time": "2025-05-02T06:02:58.725468Z",
     "start_time": "2025-05-02T06:02:58.717941Z"
    }
   },
   "cell_type": "code",
   "source": "print(np.zeros((1, 3)))",
   "id": "86810c9a5ee7d899",
   "outputs": [
    {
     "name": "stdout",
     "output_type": "stream",
     "text": [
      "[[0. 0. 0.]]\n"
     ]
    }
   ],
   "execution_count": 38
  },
  {
   "metadata": {
    "ExecuteTime": {
     "end_time": "2025-05-02T06:05:15.945998Z",
     "start_time": "2025-05-02T06:05:15.937561Z"
    }
   },
   "cell_type": "code",
   "source": [
    "class Layer_Dropout:\n",
    "\n",
    "    def __init__(self, rate):\n",
    "        self.rate = 1 - rate\n",
    "\n",
    "    def forward(self, inputs):\n",
    "        self.inputs = inputs\n",
    "        self.binary_mask = np.random.binomial(1,\n",
    "                                              self.rate,\n",
    "                                              size=inputs.shape) / \\\n",
    "                           self.rate\n",
    "        self.output = inputs * self.binary_mask\n",
    "\n",
    "    def backward(self, dvalues):\n",
    "        self.dinputs = dvalues * self.binary_mask"
   ],
   "id": "643ecb10ad802647",
   "outputs": [],
   "execution_count": 39
  },
  {
   "metadata": {
    "ExecuteTime": {
     "end_time": "2025-05-02T06:06:40.232977Z",
     "start_time": "2025-05-02T06:06:40.224024Z"
    }
   },
   "cell_type": "code",
   "source": "print(np.random.binomial(1, 0.5, size=(3, 3)))",
   "id": "201f9a4bb450647b",
   "outputs": [
    {
     "name": "stdout",
     "output_type": "stream",
     "text": [
      "[[1 1 0]\n",
      " [0 1 0]\n",
      " [1 1 1]]\n"
     ]
    }
   ],
   "execution_count": 45
  },
  {
   "metadata": {
    "ExecuteTime": {
     "end_time": "2025-05-02T06:08:06.101922Z",
     "start_time": "2025-05-02T06:08:06.093886Z"
    }
   },
   "cell_type": "code",
   "source": [
    "class Activation_ReLU:\n",
    "\n",
    "    def forward(self, inputs):\n",
    "        self.inputs = inputs\n",
    "        self.output = np.maximum(0, inputs)\n",
    "\n",
    "    def backward(self, dvalues):\n",
    "        self.dinputs = dvalues.copy()\n",
    "        self.dinputs[self.inputs <= 0] = 0"
   ],
   "id": "54a09b87e7f64378",
   "outputs": [],
   "execution_count": 46
  },
  {
   "metadata": {
    "ExecuteTime": {
     "end_time": "2025-05-02T06:12:11.308154Z",
     "start_time": "2025-05-02T06:12:11.298440Z"
    }
   },
   "cell_type": "code",
   "source": [
    "class Activation_Softmax:\n",
    "\n",
    "    def forward(self, inputs):\n",
    "        self.inputs = inputs\n",
    "        exp_values = np.exp(inputs - np.max(inputs,\n",
    "                                            axis=1,\n",
    "                                            keepdims=True))\n",
    "        probabilities = exp_values / np.sum(exp_values,\n",
    "                                             axis=1,\n",
    "                                             keepdims=True)\n",
    "        self.output = probabilities\n",
    "\n",
    "    def backward(self, dvalues):\n",
    "        self.dinputs = np.empty_like(dvalues)\n",
    "\n",
    "        for index, (single_output, single_dvalues) in enumerate(zip(self.output, dvalues)):\n",
    "            single_output = single_output.reshape(-1, 1)\n",
    "            jacobian_matrix = np.diagflat(single_output) - \\\n",
    "                                np.dot(single_output, single_output.T)\n",
    "            self.dinputs[index] = np.dot(jacobian_matrix,\n",
    "                                         single_dvalues)"
   ],
   "id": "819c4e586498d9b7",
   "outputs": [],
   "execution_count": 47
  },
  {
   "metadata": {
    "ExecuteTime": {
     "end_time": "2025-05-03T20:27:04.615653Z",
     "start_time": "2025-05-03T20:27:04.607257Z"
    }
   },
   "cell_type": "code",
   "source": [
    "class Activation_Sigmoid:\n",
    "\n",
    "    def forward(self, inputs):\n",
    "        self.inputs = inputs\n",
    "        self.output = 1 / (1 + np.exp(-inputs))\n",
    "\n",
    "    def backward(self, dvalues):\n",
    "        self.dinputs = dvalues * (1 - self.output) * self.output"
   ],
   "id": "5d015e167b35c1e4",
   "outputs": [],
   "execution_count": 76
  },
  {
   "metadata": {
    "ExecuteTime": {
     "end_time": "2025-05-03T20:27:04.848259Z",
     "start_time": "2025-05-03T20:27:04.831079Z"
    }
   },
   "cell_type": "code",
   "source": [
    "class Optimizer_SGD:\n",
    "\n",
    "    def __init__(self,\n",
    "                 learning_rate=1.,\n",
    "                 decay=0.,\n",
    "                 momentum=0.):\n",
    "        self.learning_rate = learning_rate\n",
    "        self.current_learning_rate = learning_rate\n",
    "        self.decay = decay\n",
    "        self.iterations = 0\n",
    "        self.momentum = momentum\n",
    "\n",
    "    def pre_update_params(self):\n",
    "        if self.decay:\n",
    "            self.current_learning_rate = self.learning_rate * \\\n",
    "                                         (1. / (1. + self.decay + self.iterations))\n",
    "\n",
    "    def update_params(self, layer):\n",
    "\n",
    "        if self.momentum:\n",
    "\n",
    "            if not hasattr(layer, 'weight_momentums'):\n",
    "                layer.weight_momentums = np.zeros_like(layer.weights)\n",
    "                layer.bias_momentums = np.zeros_like(layer.biases)\n",
    "\n",
    "            weight_updates = self.momentum * layer.weight_momentums - \\\n",
    "                self.current_learning_rate * layer.dweights\n",
    "            layer.weight_momentums = weight_updates\n",
    "\n",
    "            bias_updates = self.momentum * layer.bias_momentums - \\\n",
    "                self.current_learning_rate * layer.dbiases\n",
    "            layer.bias_momentums = bias_updates\n",
    "\n",
    "        else:\n",
    "            weight_updates = -self.current_learning_rate * \\\n",
    "                            layer.dweights\n",
    "            bias_updates = -self.current_learning_rate * \\\n",
    "                            layer.dbiases\n",
    "\n",
    "        layer.weights += weight_updates\n",
    "        layer.biases += bias_updates\n",
    "\n",
    "    def post_update_params(self):\n",
    "        self.iterations += 1"
   ],
   "id": "9261f83385f0ed7d",
   "outputs": [],
   "execution_count": 77
  },
  {
   "metadata": {
    "ExecuteTime": {
     "end_time": "2025-05-03T20:27:05.031077Z",
     "start_time": "2025-05-03T20:27:05.020646Z"
    }
   },
   "cell_type": "code",
   "source": [
    "class Optimizer_Adagrad:\n",
    "\n",
    "    def __init__(self,\n",
    "                 learning_rate=1.,\n",
    "                 decay=0,\n",
    "                 epsilon=1e-7):\n",
    "        self.learning_rate = learning_rate\n",
    "        self.current_learning_rate = learning_rate\n",
    "        self.decay = decay\n",
    "        self.iterations = 0\n",
    "        self.epsilon = epsilon\n",
    "\n",
    "    def pre_update_params(self):\n",
    "        if self.decay:\n",
    "            self.current_learining_rate = self.learning_rate * \\\n",
    "                                          (1. / (1. + self.decay * self.iterations))\n",
    "\n",
    "    def update_params(self, layer):\n",
    "\n",
    "        if not hasattr(layer, 'weight_cache'):\n",
    "            layer.weight_cache = np.zeros_like(layer.weights)\n",
    "            layer.bias_cache = np.zeros_like(layer.biases)\n",
    "\n",
    "        layer.weight_cache += layer.dweights ** 2\n",
    "        layer.bias_cache += layer.dbiases ** 2\n",
    "\n",
    "        layer.weights += -self.current_learning_rate * \\\n",
    "                            layer.dweights / \\\n",
    "                         (np.sqrt(layer.weight_cache) + self.epsilon)\n",
    "        layer.biases += -self.current_learning_rate * \\\n",
    "                        layer.dbiases / \\\n",
    "                        (np.sqrt(layer.bias_cache) + self.epsilon)\n",
    "\n",
    "    def post_update_params(self):\n",
    "        self.iterations += 1\n"
   ],
   "id": "26f872436fc0daed",
   "outputs": [],
   "execution_count": 78
  },
  {
   "metadata": {
    "ExecuteTime": {
     "end_time": "2025-05-03T20:27:05.388124Z",
     "start_time": "2025-05-03T20:27:05.376997Z"
    }
   },
   "cell_type": "code",
   "source": [
    "class Optimizer_RMSProp:\n",
    "\n",
    "    def __init__(self,\n",
    "                 learning_rate=0.001,\n",
    "                 decay=0.,\n",
    "                 epsilon=1e-7,\n",
    "                 rho=0.9):\n",
    "        self.learning_rate = learning_rate\n",
    "        self.current_learning_rate = learning_rate\n",
    "        self.decay = decay\n",
    "        self.iterations = 0\n",
    "        self.epsilon = epsilon\n",
    "        self.rho = rho\n",
    "\n",
    "    def pre_update_params(self):\n",
    "        if self.decay:\n",
    "            self.current_learning_rate = self.learning_rate * \\\n",
    "                                         (1. / (1. + self.decay * self.iterations))\n",
    "\n",
    "    def update_params(self, layer):\n",
    "\n",
    "        if not hasattr(layer, \"weight_cache\"):\n",
    "            layer.weight_cache = np.zeros_like(layer.weights)\n",
    "            layer.bias_cache = np.zeros_like(layer.biases)\n",
    "\n",
    "        layer.weight_cache = self.rho * layer.weight_cache + \\\n",
    "                             (1 - self.rho) * layer.dweights**2\n",
    "        layer.bias_cache = self.rho * layer.bias_cache + \\\n",
    "                           (1 - self.rho) * layer.dbiases**2\n",
    "\n",
    "        layer.weights += -self.current_learning_rate * layer.dweights / \\\n",
    "                         (np.sqrt(layer.weight_cache) + self.epsilon)\n",
    "        layer.biases += -self.current_learning_rate * layer.dbiases / \\\n",
    "                        (np.sqrt(layer.bias_cache) + self.epsilon)\n",
    "\n",
    "    def post_update_params(self):\n",
    "        self.iterations += 1\n"
   ],
   "id": "b5b922fd9e6f8ab5",
   "outputs": [],
   "execution_count": 79
  },
  {
   "metadata": {
    "ExecuteTime": {
     "end_time": "2025-05-04T06:59:57.880722Z",
     "start_time": "2025-05-04T06:59:57.866053Z"
    }
   },
   "cell_type": "code",
   "source": [
    "class Optimizer_Adam:\n",
    "\n",
    "    def __init__(self,\n",
    "                 learning_rate=0.01,\n",
    "                 decay=0.,\n",
    "                 epsilon=1e-7,\n",
    "                 beta_1=0.9,\n",
    "                 beta_2=0.999):\n",
    "        self.learning_rate = learning_rate\n",
    "        self.current_learning_rate = learning_rate\n",
    "        self.decay = decay\n",
    "        self.epsilon = epsilon\n",
    "        self.iterations = 0\n",
    "        self.beta_1 = beta_1\n",
    "        self.beta_2 = beta_2\n",
    "\n",
    "    def pre_update_params(self):\n",
    "        if self.decay:\n",
    "            self.current_learning_rate = self.learning_rate * \\\n",
    "                                         (1. / (1. + self.decay * self.iterations))\n",
    "\n",
    "    def update_params(self, layer):\n",
    "\n",
    "        if not hasattr(layer, 'weight_momentums'):\n",
    "            layer.weight_cache = np.zeros_like(layer.weights)\n",
    "            layer.weight_momentums = np.zeros_like(layer.weights)\n",
    "            layer.bias_cache = np.zeros_like(layer.biases)\n",
    "            layer.bias_momentums = np.zeros_like(layer.biases)\n",
    "\n",
    "        layer.weight_momentums = self.beta_1 * layer.weight_momentums + \\\n",
    "                                 (1 - self.beta_1) * layer.dweights\n",
    "        layer.bias_momentums = self.beta_1 * layer.bias_momentums + \\\n",
    "                               (1 - self.beta_1) * layer.dbiases\n",
    "\n",
    "        weight_momentums_corrected = layer.weight_momentums / \\\n",
    "                                     (1 - self.beta_1 ** (self.iterations + 1))\n",
    "        bias_momentums_corrected = layer.bias_momentums / \\\n",
    "                                   (1 - self.beta_1 ** (self.iterations + 1))\n",
    "\n",
    "        layer.weight_cache = self.beta_2 * layer.weight_cache + \\\n",
    "                             (1 - self.beta_2) * layer.dweights ** 2\n",
    "        layer.bias_cache = self.beta_2 * layer.bias_cache + \\\n",
    "                           (1 - self.beta_2) * layer.dbiases ** 2\n",
    "\n",
    "        weight_cache_corrected = layer.weight_cache / \\\n",
    "                                 (1 - self.beta_2 ** (self.iterations + 1))\n",
    "        bias_cache_corrected = layer.bias_cache / \\\n",
    "                               (1 - self.beta_2 ** (self.iterations + 1))\n",
    "\n",
    "        layer.weights += -self.current_learning_rate * \\\n",
    "                            weight_momentums_corrected / \\\n",
    "                         (np.sqrt(weight_cache_corrected) + self.epsilon)\n",
    "        layer.biases += -self.current_learning_rate * \\\n",
    "                        bias_momentums_corrected / \\\n",
    "                        (np.sqrt(bias_cache_corrected) + self.epsilon)\n",
    "\n",
    "    def post_update_params(self):\n",
    "        self.iterations += 1"
   ],
   "id": "965a4faef03dcf73",
   "outputs": [],
   "execution_count": 104
  },
  {
   "metadata": {
    "ExecuteTime": {
     "end_time": "2025-05-03T20:27:05.791394Z",
     "start_time": "2025-05-03T20:27:05.781630Z"
    }
   },
   "cell_type": "code",
   "source": [
    "class Loss:\n",
    "\n",
    "    def regularization_loss(self, layer):\n",
    "\n",
    "        regularization_loss = 0\n",
    "\n",
    "        if layer.weight_regularizer_l1 > 0:\n",
    "            regularization_loss += layer.weight_regularizer_l1 * \\\n",
    "                                    np.sum(np.abs(layer.weights))\n",
    "\n",
    "        if layer.weight_regularizer_l2 > 0:\n",
    "            regularization_loss += layer.weight_regularizer_l2 * \\\n",
    "                                    np.sum(layer.weights * layer.weights)\n",
    "\n",
    "        if layer.bias_regularizer_l1 > 0:\n",
    "            regularization_loss += layer.bias_regularizer_l1 * \\\n",
    "                                    np.sum(np.abs(layer.biases))\n",
    "\n",
    "        if layer.bias_regularizer_l2 > 0:\n",
    "            regularization_loss += layer.bias_regularizer_l2 * \\\n",
    "                                    np.sum(layer.biases * layer.biases)\n",
    "\n",
    "        return regularization_loss\n",
    "\n",
    "    def calculate(self, output, y):\n",
    "\n",
    "        sample_losses = self.forward(output, y)\n",
    "\n",
    "        data_loss = np.mean(sample_losses)\n",
    "\n",
    "        return data_loss\n"
   ],
   "id": "a0ccfbcf265657b2",
   "outputs": [],
   "execution_count": 81
  },
  {
   "metadata": {
    "ExecuteTime": {
     "end_time": "2025-05-04T06:58:08.602064Z",
     "start_time": "2025-05-04T06:58:08.590811Z"
    }
   },
   "cell_type": "code",
   "source": [
    "class Loss_CategoricalCrossentropy(Loss):\n",
    "\n",
    "    def forward(self, y_pred, y_true):\n",
    "\n",
    "        samples = len(y_pred)\n",
    "\n",
    "        y_pred_clipped = np.clip(y_pred, 1e-7, 1 - 1e-7)\n",
    "\n",
    "        if len(y_true.shape) == 1:\n",
    "            correct_confidences = y_pred_clipped[\n",
    "                range(samples),\n",
    "                y_true\n",
    "            ]\n",
    "\n",
    "        elif len(y_true.shape) == 2:\n",
    "            correct_confidences = np.sum(\n",
    "                y_pred_clipped * y_true,\n",
    "                axis=1\n",
    "            )\n",
    "\n",
    "        negative_log_likelihoods = -np.log(correct_confidences)\n",
    "        return negative_log_likelihoods\n",
    "\n",
    "    def backward(self, dvalues, y_true):\n",
    "\n",
    "        samples = len(dvalues)\n",
    "\n",
    "        labels = len(dvalues[0])\n",
    "\n",
    "        if len(y_true.shape) == 1:\n",
    "            y_true = np.eye(labels)[y_true]\n",
    "\n",
    "        self.dinputs = -y_true / dvalues\n",
    "        self.dinputs = self.dinputs / samples\n"
   ],
   "id": "75a5d11d37c1b099",
   "outputs": [],
   "execution_count": 101
  },
  {
   "metadata": {
    "ExecuteTime": {
     "end_time": "2025-05-04T06:58:23.390949Z",
     "start_time": "2025-05-04T06:58:23.381315Z"
    }
   },
   "cell_type": "code",
   "source": [
    "class Activation_Softmax_Loss_CategoricalCrossentropy:\n",
    "\n",
    "    def __init__(self):\n",
    "        self.activation = Activation_Softmax()\n",
    "        self.loss = Loss_CategoricalCrossentropy()\n",
    "\n",
    "    def forward(self, inputs, y_true):\n",
    "        self.activation.forward(inputs)\n",
    "        self.output = self.activation.output\n",
    "\n",
    "        return self.loss.calculate(self.output, y_true)\n",
    "\n",
    "    def backward(self, dvalues, y_true):\n",
    "        samples = len(dvalues)\n",
    "\n",
    "        if len(y_true.shape) == 2:\n",
    "            y_true = np.argmax(y_true, axis=1)\n",
    "\n",
    "        self.dinputs = dvalues.copy()\n",
    "\n",
    "        self.dinputs[range(samples), y_true] -= 1\n",
    "        self.dinputs = self.dinputs / samples\n"
   ],
   "id": "d189df9c7a729edd",
   "outputs": [],
   "execution_count": 102
  },
  {
   "metadata": {
    "ExecuteTime": {
     "end_time": "2025-05-04T06:58:30.810469Z",
     "start_time": "2025-05-04T06:58:30.801937Z"
    }
   },
   "cell_type": "code",
   "source": [
    "class Loss_BinaryCrossentropy(Loss):\n",
    "\n",
    "    def forward(self, y_pred, y_true):\n",
    "\n",
    "        y_pred_clipped = np.clip(y_pred, 1e-7, 1 - 1e-7)\n",
    "\n",
    "        sample_losses = -(y_true * np.log(y_pred_clipped) + \\\n",
    "                          (1 - y_true) * np.log(1 - y_pred_clipped))\n",
    "\n",
    "        sample_losses = np.mean(sample_losses, axis=-1)\n",
    "\n",
    "        return sample_losses\n",
    "\n",
    "    def backward(self, dvalues, y_true):\n",
    "\n",
    "        samples = len(dvalues)\n",
    "\n",
    "        outputs = len(dvalues[0])\n",
    "\n",
    "        clipped_dvalues = np.clip(dvalues, 1e-7, 1 - 1e-7)\n",
    "\n",
    "        self.dinputs = -(y_true / clipped_dvalues - \\\n",
    "                         (1 - y_true) / (1 - clipped_dvalues)) / outputs\n",
    "\n",
    "        self.dinputs = self.dinputs / samples"
   ],
   "id": "4865b4123885b103",
   "outputs": [],
   "execution_count": 103
  },
  {
   "metadata": {
    "ExecuteTime": {
     "end_time": "2025-05-04T07:01:31.312070Z",
     "start_time": "2025-05-04T07:01:01.494156Z"
    }
   },
   "cell_type": "code",
   "source": [
    "X, y = spiral_data(samples=1000, classes=2)\n",
    "\n",
    "# Reshape labels to be a list of lists\n",
    "# Inner list contains aone output (either 0 or 1)\n",
    "# per each output neuron, 1 in this case\n",
    "y = y.reshape(-1, 1)\n",
    "\n",
    "dense1 = Layer_Dense(2, 64,\n",
    "                     weight_regularizer_l2=1e-4,\n",
    "                     bias_regularizer_l2=1e-4)\n",
    "\n",
    "activation1 = Activation_ReLU()\n",
    "\n",
    "dense2 = Layer_Dense(64, 1)\n",
    "\n",
    "activation2 = Activation_Sigmoid()\n",
    "\n",
    "loss_function = Loss_BinaryCrossentropy()\n",
    "\n",
    "optimizer = Optimizer_Adam(decay=5e-7)\n",
    "\n",
    "for epoch in range(10001):\n",
    "\n",
    "    dense1.forward(X)\n",
    "    activation1.forward(dense1.output)\n",
    "    dense2.forward(activation1.output)\n",
    "    activation2.forward(dense2.output)\n",
    "\n",
    "    data_loss = loss_function.calculate(activation2.output, y)\n",
    "\n",
    "    regularization_loss = \\\n",
    "        loss_function.regularization_loss(dense1) + \\\n",
    "        loss_function.regularization_loss(dense2)\n",
    "\n",
    "    loss = data_loss + regularization_loss\n",
    "\n",
    "    predictions = (activation2.output > 0.5) * 1\n",
    "    accuracy = np.mean(predictions==y)\n",
    "\n",
    "    if not epoch % 100:\n",
    "        print(f'epoch: {epoch}, ' +\n",
    "              f'acc: {accuracy:.3f}, ' +\n",
    "              f'data_loss: {data_loss:.3f}, ' +\n",
    "              f'reg_loss: {regularization_loss:.3f}, ' +\n",
    "              f'lr: {optimizer.current_learning_rate}')\n",
    "\n",
    "    loss_function.backward(activation2.output, y)\n",
    "    activation2.backward(loss_function.dinputs)\n",
    "    dense2.backward(activation2.dinputs)\n",
    "    activation1.backward(dense2.dinputs)\n",
    "    dense1.backward(activation1.dinputs)\n",
    "\n",
    "    optimizer.pre_update_params()\n",
    "    optimizer.update_params(dense1)\n",
    "    optimizer.update_params(dense2)\n",
    "    optimizer.post_update_params()"
   ],
   "id": "6e93a010580b657c",
   "outputs": [
    {
     "name": "stdout",
     "output_type": "stream",
     "text": [
      "epoch: 0, acc: 0.500, data_loss: 1.863, reg_loss: 0.013, lr: 0.01\n",
      "epoch: 100, acc: 0.622, data_loss: 0.646, reg_loss: 0.012, lr: 0.009999505024501287\n",
      "epoch: 200, acc: 0.619, data_loss: 0.630, reg_loss: 0.011, lr: 0.009999005098992651\n",
      "epoch: 300, acc: 0.678, data_loss: 0.595, reg_loss: 0.011, lr: 0.009998505223469092\n",
      "epoch: 400, acc: 0.733, data_loss: 0.548, reg_loss: 0.013, lr: 0.009998005397923115\n",
      "epoch: 500, acc: 0.847, data_loss: 0.468, reg_loss: 0.017, lr: 0.009997505622347224\n",
      "epoch: 600, acc: 0.865, data_loss: 0.397, reg_loss: 0.023, lr: 0.00999700589673393\n",
      "epoch: 700, acc: 0.872, data_loss: 0.344, reg_loss: 0.030, lr: 0.009996506221075735\n",
      "epoch: 800, acc: 0.878, data_loss: 0.308, reg_loss: 0.035, lr: 0.00999600659536515\n",
      "epoch: 900, acc: 0.896, data_loss: 0.279, reg_loss: 0.040, lr: 0.009995507019594693\n",
      "epoch: 1000, acc: 0.899, data_loss: 0.261, reg_loss: 0.043, lr: 0.009995007493756867\n",
      "epoch: 1100, acc: 0.902, data_loss: 0.249, reg_loss: 0.044, lr: 0.009994508017844196\n",
      "epoch: 1200, acc: 0.906, data_loss: 0.239, reg_loss: 0.045, lr: 0.009994008591849186\n",
      "epoch: 1300, acc: 0.911, data_loss: 0.231, reg_loss: 0.046, lr: 0.00999350921576436\n",
      "epoch: 1400, acc: 0.917, data_loss: 0.223, reg_loss: 0.046, lr: 0.009993009889582237\n",
      "epoch: 1500, acc: 0.929, data_loss: 0.212, reg_loss: 0.046, lr: 0.009992510613295336\n",
      "epoch: 1600, acc: 0.947, data_loss: 0.195, reg_loss: 0.047, lr: 0.009992011386896175\n",
      "epoch: 1700, acc: 0.953, data_loss: 0.180, reg_loss: 0.048, lr: 0.009991512210377284\n",
      "epoch: 1800, acc: 0.954, data_loss: 0.169, reg_loss: 0.049, lr: 0.009991013083731183\n",
      "epoch: 1900, acc: 0.958, data_loss: 0.160, reg_loss: 0.050, lr: 0.009990514006950403\n",
      "epoch: 2000, acc: 0.959, data_loss: 0.153, reg_loss: 0.050, lr: 0.009990014980027462\n",
      "epoch: 2100, acc: 0.961, data_loss: 0.148, reg_loss: 0.050, lr: 0.009989516002954899\n",
      "epoch: 2200, acc: 0.961, data_loss: 0.143, reg_loss: 0.049, lr: 0.00998901707572524\n",
      "epoch: 2300, acc: 0.962, data_loss: 0.139, reg_loss: 0.048, lr: 0.009988518198331018\n",
      "epoch: 2400, acc: 0.962, data_loss: 0.135, reg_loss: 0.048, lr: 0.009988019370764769\n",
      "epoch: 2500, acc: 0.963, data_loss: 0.132, reg_loss: 0.047, lr: 0.009987520593019024\n",
      "epoch: 2600, acc: 0.963, data_loss: 0.130, reg_loss: 0.046, lr: 0.00998702186508632\n",
      "epoch: 2700, acc: 0.963, data_loss: 0.128, reg_loss: 0.045, lr: 0.0099865231869592\n",
      "epoch: 2800, acc: 0.963, data_loss: 0.126, reg_loss: 0.045, lr: 0.009986024558630197\n",
      "epoch: 2900, acc: 0.965, data_loss: 0.124, reg_loss: 0.044, lr: 0.009985525980091857\n",
      "epoch: 3000, acc: 0.965, data_loss: 0.122, reg_loss: 0.043, lr: 0.009985027451336722\n",
      "epoch: 3100, acc: 0.963, data_loss: 0.121, reg_loss: 0.042, lr: 0.009984528972357331\n",
      "epoch: 3200, acc: 0.964, data_loss: 0.120, reg_loss: 0.042, lr: 0.009984030543146238\n",
      "epoch: 3300, acc: 0.963, data_loss: 0.118, reg_loss: 0.041, lr: 0.009983532163695984\n",
      "epoch: 3400, acc: 0.963, data_loss: 0.117, reg_loss: 0.040, lr: 0.009983033833999119\n",
      "epoch: 3500, acc: 0.963, data_loss: 0.116, reg_loss: 0.040, lr: 0.009982535554048192\n",
      "epoch: 3600, acc: 0.964, data_loss: 0.115, reg_loss: 0.039, lr: 0.00998203732383576\n",
      "epoch: 3700, acc: 0.966, data_loss: 0.114, reg_loss: 0.039, lr: 0.009981539143354366\n",
      "epoch: 3800, acc: 0.964, data_loss: 0.113, reg_loss: 0.038, lr: 0.009981041012596573\n",
      "epoch: 3900, acc: 0.964, data_loss: 0.112, reg_loss: 0.037, lr: 0.009980542931554934\n",
      "epoch: 4000, acc: 0.966, data_loss: 0.111, reg_loss: 0.037, lr: 0.009980044900222007\n",
      "epoch: 4100, acc: 0.966, data_loss: 0.111, reg_loss: 0.036, lr: 0.009979546918590348\n",
      "epoch: 4200, acc: 0.967, data_loss: 0.109, reg_loss: 0.036, lr: 0.009979048986652524\n",
      "epoch: 4300, acc: 0.963, data_loss: 0.104, reg_loss: 0.036, lr: 0.00997855110440109\n",
      "epoch: 4400, acc: 0.961, data_loss: 0.103, reg_loss: 0.036, lr: 0.009978053271828614\n",
      "epoch: 4500, acc: 0.966, data_loss: 0.102, reg_loss: 0.035, lr: 0.009977555488927658\n",
      "epoch: 4600, acc: 0.971, data_loss: 0.100, reg_loss: 0.035, lr: 0.00997705775569079\n",
      "epoch: 4700, acc: 0.968, data_loss: 0.098, reg_loss: 0.035, lr: 0.009976560072110577\n",
      "epoch: 4800, acc: 0.969, data_loss: 0.097, reg_loss: 0.034, lr: 0.009976062438179587\n",
      "epoch: 4900, acc: 0.969, data_loss: 0.096, reg_loss: 0.034, lr: 0.009975564853890395\n",
      "epoch: 5000, acc: 0.968, data_loss: 0.095, reg_loss: 0.034, lr: 0.009975067319235571\n",
      "epoch: 5100, acc: 0.968, data_loss: 0.094, reg_loss: 0.033, lr: 0.009974569834207688\n",
      "epoch: 5200, acc: 0.970, data_loss: 0.093, reg_loss: 0.033, lr: 0.00997407239879932\n",
      "epoch: 5300, acc: 0.976, data_loss: 0.093, reg_loss: 0.033, lr: 0.009973575013003048\n",
      "epoch: 5400, acc: 0.972, data_loss: 0.092, reg_loss: 0.032, lr: 0.009973077676811447\n",
      "epoch: 5500, acc: 0.972, data_loss: 0.091, reg_loss: 0.032, lr: 0.009972580390217098\n",
      "epoch: 5600, acc: 0.973, data_loss: 0.091, reg_loss: 0.031, lr: 0.009972083153212581\n",
      "epoch: 5700, acc: 0.972, data_loss: 0.090, reg_loss: 0.031, lr: 0.00997158596579048\n",
      "epoch: 5800, acc: 0.973, data_loss: 0.090, reg_loss: 0.031, lr: 0.009971088827943378\n",
      "epoch: 5900, acc: 0.973, data_loss: 0.089, reg_loss: 0.030, lr: 0.009970591739663862\n",
      "epoch: 6000, acc: 0.973, data_loss: 0.089, reg_loss: 0.030, lr: 0.009970094700944516\n",
      "epoch: 6100, acc: 0.974, data_loss: 0.089, reg_loss: 0.030, lr: 0.009969597711777935\n",
      "epoch: 6200, acc: 0.974, data_loss: 0.088, reg_loss: 0.029, lr: 0.009969100772156701\n",
      "epoch: 6300, acc: 0.973, data_loss: 0.088, reg_loss: 0.029, lr: 0.00996860388207341\n",
      "epoch: 6400, acc: 0.974, data_loss: 0.088, reg_loss: 0.029, lr: 0.009968107041520654\n",
      "epoch: 6500, acc: 0.974, data_loss: 0.087, reg_loss: 0.029, lr: 0.00996761025049103\n",
      "epoch: 6600, acc: 0.974, data_loss: 0.086, reg_loss: 0.028, lr: 0.009967113508977131\n",
      "epoch: 6700, acc: 0.973, data_loss: 0.086, reg_loss: 0.028, lr: 0.009966616816971556\n",
      "epoch: 6800, acc: 0.973, data_loss: 0.086, reg_loss: 0.028, lr: 0.0099661201744669\n",
      "epoch: 6900, acc: 0.974, data_loss: 0.085, reg_loss: 0.028, lr: 0.009965623581455767\n",
      "epoch: 7000, acc: 0.974, data_loss: 0.085, reg_loss: 0.027, lr: 0.009965127037930762\n",
      "epoch: 7100, acc: 0.975, data_loss: 0.084, reg_loss: 0.027, lr: 0.009964630543884481\n",
      "epoch: 7200, acc: 0.974, data_loss: 0.084, reg_loss: 0.027, lr: 0.009964134099309536\n",
      "epoch: 7300, acc: 0.975, data_loss: 0.083, reg_loss: 0.027, lr: 0.009963637704198527\n",
      "epoch: 7400, acc: 0.974, data_loss: 0.083, reg_loss: 0.027, lr: 0.009963141358544066\n",
      "epoch: 7500, acc: 0.975, data_loss: 0.082, reg_loss: 0.026, lr: 0.00996264506233876\n",
      "epoch: 7600, acc: 0.975, data_loss: 0.082, reg_loss: 0.026, lr: 0.009962148815575222\n",
      "epoch: 7700, acc: 0.975, data_loss: 0.082, reg_loss: 0.026, lr: 0.009961652618246062\n",
      "epoch: 7800, acc: 0.974, data_loss: 0.081, reg_loss: 0.026, lr: 0.009961156470343895\n",
      "epoch: 7900, acc: 0.975, data_loss: 0.081, reg_loss: 0.026, lr: 0.009960660371861333\n",
      "epoch: 8000, acc: 0.974, data_loss: 0.081, reg_loss: 0.025, lr: 0.009960164322791\n",
      "epoch: 8100, acc: 0.975, data_loss: 0.080, reg_loss: 0.025, lr: 0.009959668323125503\n",
      "epoch: 8200, acc: 0.975, data_loss: 0.080, reg_loss: 0.025, lr: 0.009959172372857471\n",
      "epoch: 8300, acc: 0.975, data_loss: 0.080, reg_loss: 0.025, lr: 0.009958676471979521\n",
      "epoch: 8400, acc: 0.974, data_loss: 0.080, reg_loss: 0.025, lr: 0.009958180620484277\n",
      "epoch: 8500, acc: 0.974, data_loss: 0.079, reg_loss: 0.025, lr: 0.00995768481836436\n",
      "epoch: 8600, acc: 0.974, data_loss: 0.079, reg_loss: 0.024, lr: 0.009957189065612401\n",
      "epoch: 8700, acc: 0.974, data_loss: 0.079, reg_loss: 0.024, lr: 0.00995669336222102\n",
      "epoch: 8800, acc: 0.975, data_loss: 0.078, reg_loss: 0.024, lr: 0.00995619770818285\n",
      "epoch: 8900, acc: 0.975, data_loss: 0.078, reg_loss: 0.024, lr: 0.009955702103490519\n",
      "epoch: 9000, acc: 0.975, data_loss: 0.078, reg_loss: 0.024, lr: 0.009955206548136659\n",
      "epoch: 9100, acc: 0.976, data_loss: 0.078, reg_loss: 0.024, lr: 0.009954711042113902\n",
      "epoch: 9200, acc: 0.976, data_loss: 0.077, reg_loss: 0.024, lr: 0.009954215585414884\n",
      "epoch: 9300, acc: 0.975, data_loss: 0.077, reg_loss: 0.023, lr: 0.00995372017803224\n",
      "epoch: 9400, acc: 0.976, data_loss: 0.077, reg_loss: 0.023, lr: 0.009953224819958605\n",
      "epoch: 9500, acc: 0.975, data_loss: 0.077, reg_loss: 0.023, lr: 0.00995272951118662\n",
      "epoch: 9600, acc: 0.978, data_loss: 0.078, reg_loss: 0.023, lr: 0.009952234251708922\n",
      "epoch: 9700, acc: 0.974, data_loss: 0.076, reg_loss: 0.023, lr: 0.009951739041518158\n",
      "epoch: 9800, acc: 0.976, data_loss: 0.076, reg_loss: 0.023, lr: 0.009951243880606966\n",
      "epoch: 9900, acc: 0.975, data_loss: 0.077, reg_loss: 0.023, lr: 0.009950748768967994\n",
      "epoch: 10000, acc: 0.976, data_loss: 0.076, reg_loss: 0.022, lr: 0.009950253706593883\n"
     ]
    }
   ],
   "execution_count": 105
  },
  {
   "metadata": {
    "ExecuteTime": {
     "end_time": "2025-05-04T07:01:45.235810Z",
     "start_time": "2025-05-04T07:01:45.221244Z"
    }
   },
   "cell_type": "code",
   "source": [
    "X_test, y_test = spiral_data(samples=1000, classes=2)\n",
    "\n",
    "y_test = y_test.reshape(-1, 1)\n",
    "\n",
    "dense1.forward(X_test)\n",
    "activation1.forward(dense1.output)\n",
    "dense2.forward(activation1.output)\n",
    "activation2.forward(dense2.output)\n",
    "\n",
    "loss = loss_function.calculate(activation2.output, y_test)\n",
    "\n",
    "predictions = (activation2.output > 0.5) * 1\n",
    "accuracy = np.mean(predictions==y_test)\n",
    "\n",
    "print(f'validation, acc: {accuracy:.3f}. loss: {loss:.3f}')"
   ],
   "id": "478fc3c8fb84c53",
   "outputs": [
    {
     "name": "stdout",
     "output_type": "stream",
     "text": [
      "validation, acc: 0.971. loss: 0.089\n"
     ]
    }
   ],
   "execution_count": 109
  },
  {
   "metadata": {
    "ExecuteTime": {
     "end_time": "2025-05-03T20:27:14.216576Z",
     "start_time": "2025-05-03T20:27:14.212205Z"
    }
   },
   "cell_type": "code",
   "source": "",
   "id": "3b3376cf8362b02f",
   "outputs": [],
   "execution_count": null
  },
  {
   "metadata": {
    "ExecuteTime": {
     "end_time": "2025-05-03T20:27:14.265953Z",
     "start_time": "2025-05-03T20:27:14.261753Z"
    }
   },
   "cell_type": "code",
   "source": "",
   "id": "a3b9a1184c0dd4c0",
   "outputs": [],
   "execution_count": null
  },
  {
   "metadata": {},
   "cell_type": "code",
   "outputs": [],
   "execution_count": null,
   "source": "",
   "id": "974de3ad3cfb8c55"
  }
 ],
 "metadata": {
  "kernelspec": {
   "display_name": "Python 3",
   "language": "python",
   "name": "python3"
  },
  "language_info": {
   "codemirror_mode": {
    "name": "ipython",
    "version": 2
   },
   "file_extension": ".py",
   "mimetype": "text/x-python",
   "name": "python",
   "nbconvert_exporter": "python",
   "pygments_lexer": "ipython2",
   "version": "2.7.6"
  }
 },
 "nbformat": 4,
 "nbformat_minor": 5
}
