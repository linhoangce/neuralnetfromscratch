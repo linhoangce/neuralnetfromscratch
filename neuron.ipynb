{
 "cells": [
  {
   "cell_type": "code",
   "id": "initial_id",
   "metadata": {
    "collapsed": true,
    "ExecuteTime": {
     "end_time": "2025-03-12T05:49:54.097159Z",
     "start_time": "2025-03-12T05:49:54.083668Z"
    }
   },
   "source": [
    "import math\n",
    "\n",
    "inputs = [1, 2, 3, 2.5]\n",
    "weights = [0.2, 0.8, -0.5, 1.0]\n",
    "bias = 2\n",
    "\n",
    "output = (inputs[0]*weights[0] + inputs[1]*weights[1] + inputs[2]*weights[2] + inputs[3]*weights[3] + bias)\n",
    "output"
   ],
   "outputs": [
    {
     "data": {
      "text/plain": [
       "4.8"
      ]
     },
     "execution_count": 3,
     "metadata": {},
     "output_type": "execute_result"
    }
   ],
   "execution_count": 3
  },
  {
   "metadata": {
    "ExecuteTime": {
     "end_time": "2025-03-12T05:56:02.565963Z",
     "start_time": "2025-03-12T05:56:02.549583Z"
    }
   },
   "cell_type": "code",
   "source": [
    "weights1 = [0.2, 0.8, -0.5, 1.0]\n",
    "weights2 = [0.5, -0.91, 0.26, -0.5]\n",
    "weights3 = [-0.26, -0.27, 0.17, 0.87]\n",
    "\n",
    "bias1 = 2\n",
    "bias2 = 3\n",
    "bias3 = 0.5\n",
    "\n",
    "output = [\n",
    "    # Neuron 1:\n",
    "    inputs[0]*weights1[0] +\n",
    "    inputs[1]*weights1[1] +\n",
    "    inputs[2]*weights1[2] +\n",
    "    inputs[3]*weights1[3] + bias1,\n",
    "\n",
    "    # Neuron 2:\n",
    "    inputs[0]*weights2[0] +\n",
    "    inputs[1]*weights2[1] +\n",
    "    inputs[2]*weights2[2] +\n",
    "    inputs[3]*weights2[3] + bias2,\n",
    "\n",
    "    # Neuron 3:\n",
    "    inputs[0]*weights3[0] +\n",
    "    inputs[1]*weights3[1] +\n",
    "    inputs[2]*weights3[2] +\n",
    "    inputs[3]*weights3[3] + bias3,\n",
    "]\n",
    "\n",
    "output"
   ],
   "id": "85b0b461bb5ab80a",
   "outputs": [
    {
     "data": {
      "text/plain": [
       "[4.8, 1.21, 2.385]"
      ]
     },
     "execution_count": 4,
     "metadata": {},
     "output_type": "execute_result"
    }
   ],
   "execution_count": 4
  },
  {
   "metadata": {
    "ExecuteTime": {
     "end_time": "2025-03-12T06:06:03.742983Z",
     "start_time": "2025-03-12T06:06:03.737316Z"
    }
   },
   "cell_type": "code",
   "source": [
    "### Use loop iteration\n",
    "\n",
    "weights = [[0.2, 0.8, -0.5, 1],\n",
    "            [0.5, -0.91, 0.26, -0.5],\n",
    "            [-0.26, -0.27, 0.17, 0.87]]\n",
    "biases = [2, 3, 0.5]\n",
    "\n",
    "# Output of current layer\n",
    "layer_output = []\n",
    "\n",
    "\n",
    "# For each neuron\n",
    "for neuron_weights, neuron_bias in zip(weights, biases):\n",
    "    # Zeroed output of given neuron\n",
    "    neuron_output = 0\n",
    "    # For each input and weight ot the neuron\n",
    "    for n_input, weight in zip(inputs, neuron_weights):\n",
    "        # Multiply this input by associated weight\n",
    "        # and add to the neuron's output variable\n",
    "        neuron_output += n_input*weight\n",
    "\n",
    "    # Add bias\n",
    "    neuron_output += neuron_bias\n",
    "    #Put neuron's result to the layer's output list\n",
    "    layer_output.append(neuron_output)\n",
    "\n",
    "layer_output"
   ],
   "id": "3c0e4a51c9212e23",
   "outputs": [
    {
     "data": {
      "text/plain": [
       "[4.8, 1.21, 2.385]"
      ]
     },
     "execution_count": 11,
     "metadata": {},
     "output_type": "execute_result"
    }
   ],
   "execution_count": 11
  },
  {
   "metadata": {
    "ExecuteTime": {
     "end_time": "2025-03-13T05:39:55.404327Z",
     "start_time": "2025-03-13T05:39:55.394162Z"
    }
   },
   "cell_type": "code",
   "source": [
    "import numpy as np\n",
    "inputs = [1.0, 2.0, 3.0, 2.5]\n",
    "weights = [0.2, 0.8, -0.5, 1.0]\n",
    "bias = 2.0\n",
    "outputs = np.dot(weights, inputs) + bias\n",
    "\n",
    "outputs.item()\n"
   ],
   "id": "106deb424f80c503",
   "outputs": [
    {
     "data": {
      "text/plain": [
       "4.8"
      ]
     },
     "execution_count": 4,
     "metadata": {},
     "output_type": "execute_result"
    }
   ],
   "execution_count": 4
  },
  {
   "metadata": {
    "ExecuteTime": {
     "end_time": "2025-03-13T05:43:28.408427Z",
     "start_time": "2025-03-13T05:43:28.396728Z"
    }
   },
   "cell_type": "code",
   "source": [
    "inputs = np.array([1, 2, 3, 2.5])\n",
    "weights = [[0.2, 0.8, -0.5, 1],\n",
    "            [0.5, -0.91, 0.26, -0.5],\n",
    "            [-0.26, -0.27, 0.17, 0.87]]\n",
    "biases = [2.0, 3.0, 0.5]\n",
    "\n",
    "outputs = np.dot(weights, inputs) + bias\n",
    "outputs"
   ],
   "id": "78064c74480621c0",
   "outputs": [
    {
     "data": {
      "text/plain": [
       "array([4.8  , 0.21 , 3.885])"
      ]
     },
     "execution_count": 5,
     "metadata": {},
     "output_type": "execute_result"
    }
   ],
   "execution_count": 5
  },
  {
   "metadata": {
    "ExecuteTime": {
     "end_time": "2025-03-13T06:14:23.222772Z",
     "start_time": "2025-03-13T06:14:23.211241Z"
    }
   },
   "cell_type": "code",
   "source": [
    "a = [1, 2, 3]\n",
    "np.array([a])"
   ],
   "id": "cdb1dbafe71685b3",
   "outputs": [
    {
     "data": {
      "text/plain": [
       "array([[1, 2, 3]])"
      ]
     },
     "execution_count": 15,
     "metadata": {},
     "output_type": "execute_result"
    }
   ],
   "execution_count": 15
  },
  {
   "metadata": {
    "ExecuteTime": {
     "end_time": "2025-03-13T06:11:01.427832Z",
     "start_time": "2025-03-13T06:11:01.418290Z"
    }
   },
   "cell_type": "code",
   "source": "np.expand_dims(a, axis=0)",
   "id": "44747eba807f10a4",
   "outputs": [
    {
     "data": {
      "text/plain": [
       "array([[2, 3, 1]])"
      ]
     },
     "execution_count": 10,
     "metadata": {},
     "output_type": "execute_result"
    }
   ],
   "execution_count": 10
  },
  {
   "metadata": {
    "ExecuteTime": {
     "end_time": "2025-03-13T06:13:53.427425Z",
     "start_time": "2025-03-13T06:13:53.416677Z"
    }
   },
   "cell_type": "code",
   "source": [
    "b = [2, 3, 4]\n",
    "b = np.array([b]).T\n",
    "b"
   ],
   "id": "fc1d4f045bfd866a",
   "outputs": [
    {
     "data": {
      "text/plain": [
       "array([[2],\n",
       "       [3],\n",
       "       [4]])"
      ]
     },
     "execution_count": 12,
     "metadata": {},
     "output_type": "execute_result"
    }
   ],
   "execution_count": 12
  },
  {
   "metadata": {
    "ExecuteTime": {
     "end_time": "2025-03-13T06:14:29.257590Z",
     "start_time": "2025-03-13T06:14:29.247738Z"
    }
   },
   "cell_type": "code",
   "source": "np.dot(a, b)",
   "id": "a79978b078cd8228",
   "outputs": [
    {
     "data": {
      "text/plain": [
       "array([20])"
      ]
     },
     "execution_count": 16,
     "metadata": {},
     "output_type": "execute_result"
    }
   ],
   "execution_count": 16
  },
  {
   "metadata": {
    "ExecuteTime": {
     "end_time": "2025-03-14T05:28:27.607334Z",
     "start_time": "2025-03-14T05:28:27.588491Z"
    }
   },
   "cell_type": "code",
   "source": [
    "inputs = [[1.0, 2.0, 3.0, 2.5],\n",
    " [2.0, 5.0, -1.0, 2.0],\n",
    " [-1.5, 2.7, 3.3, -0.8]]\n",
    "weights = [[0.2, 0.8, -0.5, 1.0],\n",
    " [0.5, -0.91, 0.26, -0.5],\n",
    " [-0.26, -0.27, 0.17, 0.87]]\n",
    "biases = [2.0, 3.0, 0.5]\n",
    "\n",
    "layer_output = np.dot(inputs, np.array(weights).T) + biases\n",
    "layer_output"
   ],
   "id": "98868ac8a5be32e4",
   "outputs": [
    {
     "data": {
      "text/plain": [
       "array([[ 4.8  ,  1.21 ,  2.385],\n",
       "       [ 8.9  , -1.81 ,  0.2  ],\n",
       "       [ 1.41 ,  1.051,  0.026]])"
      ]
     },
     "execution_count": 17,
     "metadata": {},
     "output_type": "execute_result"
    }
   ],
   "execution_count": 17
  },
  {
   "metadata": {
    "ExecuteTime": {
     "end_time": "2025-03-14T05:42:50.843659Z",
     "start_time": "2025-03-14T05:42:50.833918Z"
    }
   },
   "cell_type": "code",
   "source": "layer_output.shape\n",
   "id": "6ab486d3dcb2a118",
   "outputs": [
    {
     "data": {
      "text/plain": [
       "(3, 3)"
      ]
     },
     "execution_count": 20,
     "metadata": {},
     "output_type": "execute_result"
    }
   ],
   "execution_count": 20
  },
  {
   "metadata": {
    "ExecuteTime": {
     "end_time": "2025-03-14T05:45:42.332373Z",
     "start_time": "2025-03-14T05:45:42.320355Z"
    }
   },
   "cell_type": "code",
   "source": [
    "weights2 = [[0.1, -0.14, 0.5],\n",
    "            [-0.5, 0.12, -0.33],\n",
    "            [-0.44, 0.73, -0.13]]\n",
    "biases2 = [-1, 2, -0.5]\n",
    "\n",
    "layer2_output = np.dot(layer_output, np.array(weights2).T) + biases2\n",
    "layer2_output"
   ],
   "id": "9240dc7ddc5069d4",
   "outputs": [
    {
     "data": {
      "text/plain": [
       "array([[ 0.5031 , -1.04185, -2.03875],\n",
       "       [ 0.2434 , -2.7332 , -5.7633 ],\n",
       "       [-0.99314,  1.41254, -0.35655]])"
      ]
     },
     "execution_count": 22,
     "metadata": {},
     "output_type": "execute_result"
    }
   ],
   "execution_count": 22
  },
  {
   "metadata": {
    "ExecuteTime": {
     "end_time": "2025-03-14T05:46:56.195185Z",
     "start_time": "2025-03-14T05:46:56.183171Z"
    }
   },
   "cell_type": "code",
   "source": [
    "weights2 = [[0.1, -0.14, 0.5],\n",
    "            [-0.5, 0.12, -0.33],\n",
    "            [-0.44, 0.73, -0.13],\n",
    "            [-0.44, 0.73, -0.13],\n",
    "            [-0.44, 0.73, -0.13]]\n",
    "biases2 = [-1, 2, -0.5, 2.5, 3]\n",
    "\n",
    "layer2_output = np.dot(layer_output, np.array(weights2).T) + biases2\n",
    "layer2_output"
   ],
   "id": "db3ef954a0c58a2d",
   "outputs": [
    {
     "data": {
      "text/plain": [
       "array([[ 0.5031 , -1.04185, -2.03875,  0.96125,  1.46125],\n",
       "       [ 0.2434 , -2.7332 , -5.7633 , -2.7633 , -2.2633 ],\n",
       "       [-0.99314,  1.41254, -0.35655,  2.64345,  3.14345]])"
      ]
     },
     "execution_count": 23,
     "metadata": {},
     "output_type": "execute_result"
    }
   ],
   "execution_count": 23
  },
  {
   "metadata": {
    "ExecuteTime": {
     "end_time": "2025-03-14T06:03:52.557982Z",
     "start_time": "2025-03-14T06:03:52.252379Z"
    }
   },
   "cell_type": "code",
   "source": [
    "import nnfs\n",
    "from nnfs.datasets import spiral_data\n",
    "import matplotlib.pyplot as plt\n",
    "\n",
    "nnfs.init()\n",
    "X, y = spiral_data(samples=100, classes=3)\n",
    "\n",
    "plt.scatter(X[:, 0], X[:, 1], c=y, cmap='brg')\n",
    "plt.show()\n",
    "\n"
   ],
   "id": "4ad034991ddf2ec7",
   "outputs": [
    {
     "data": {
      "text/plain": [
       "<Figure size 640x480 with 1 Axes>"
      ],
      "image/png": "[encoded data removed]"
     },
     "metadata": {},
     "output_type": "display_data"
    }
   ],
   "execution_count": 29
  },
  {
   "metadata": {
    "ExecuteTime": {
     "end_time": "2025-03-16T02:53:46.846424Z",
     "start_time": "2025-03-16T02:53:46.841586Z"
    }
   },
   "cell_type": "code",
   "source": [
    "class Layer_Dense:\n",
    "\n",
    "    def __init__(self, n_inputs, n_neurons):\n",
    "        # `np.random.randn` produces a Gaussian distribution with a mean of 0 and a variance of 1, which means that it'll generate random numbers, positive and negative, centered at 0 and with the mean value close to 0.\n",
    "        # In general, neural networks work best with values between -1 and +1. So this `np.random.randn` generates values around those numbers.\n",
    "        # Multiply this Gaussian distribution for the weights by `0.01` to generate numbers that are a couple of magnitudes smaller. Otherwise, the model will take more time to fit the data during the training process as starting values will be disproportionately large compared to the updates being made during training. The idea here is to start a model with non-zero values small enough that they won't affect training. This way, we have a bunch of values to begin working with, but hopefully none too large or as zeros.\n",
    "        # `np.random.randn` takes dimension sizes as parameters and creates output array with this shape.\n",
    "        self.weights = 0.01 * np.random.randn(n_inputs, n_neurons)\n",
    "        self.biases = np.zeros((1, n_neurons))\n",
    "\n",
    "    # Forward pass\n",
    "    def forward(self, inputs):\n",
    "        self.output = np.dot(inputs, self.weights) + self.biases"
   ],
   "id": "76ad8269e6e4be93",
   "outputs": [],
   "execution_count": 32
  },
  {
   "metadata": {
    "ExecuteTime": {
     "end_time": "2025-03-16T03:11:21.889269Z",
     "start_time": "2025-03-16T03:11:21.883965Z"
    }
   },
   "cell_type": "code",
   "source": [
    "X, y = spiral_data(samples=100, classes=3)\n",
    "X.shape, y.shape\n"
   ],
   "id": "6b63d49180baed36",
   "outputs": [
    {
     "data": {
      "text/plain": [
       "((300, 2), (300,))"
      ]
     },
     "execution_count": 53,
     "metadata": {},
     "output_type": "execute_result"
    }
   ],
   "execution_count": 53
  },
  {
   "metadata": {
    "ExecuteTime": {
     "end_time": "2025-03-16T03:11:23.874673Z",
     "start_time": "2025-03-16T03:11:23.869854Z"
    }
   },
   "cell_type": "code",
   "source": [
    "dense1 = Layer_Dense(2, 3)\n",
    "dense1.forward(X)\n",
    "\n",
    "dense1.output.shape, dense1.output[:5]"
   ],
   "id": "d40f22c4bfbceb36",
   "outputs": [
    {
     "data": {
      "text/plain": [
       "((300, 3),\n",
       " array([[ 0.0000000e+00,  0.0000000e+00,  0.0000000e+00],\n",
       "        [-6.6135792e-05, -2.3707229e-04, -2.4098932e-04],\n",
       "        [-3.1392541e-05, -2.2257167e-04, -4.3131242e-04],\n",
       "        [ 2.3084007e-05, -1.4214433e-04, -5.6358275e-04],\n",
       "        [-2.0369441e-04, -8.0478768e-04, -9.5713802e-04]], dtype=float32))"
      ]
     },
     "execution_count": 54,
     "metadata": {},
     "output_type": "execute_result"
    }
   ],
   "execution_count": 54
  },
  {
   "metadata": {},
   "cell_type": "markdown",
   "source": "### ReLU Activation Function\n",
   "id": "ceaec0e9117e2954"
  },
  {
   "metadata": {
    "ExecuteTime": {
     "end_time": "2025-03-16T04:22:21.158401Z",
     "start_time": "2025-03-16T04:22:21.135784Z"
    }
   },
   "cell_type": "code",
   "source": [
    "inputs = [0, 2, -1, 3.3, -2.7, 1.1, 2.2, -100]\n",
    "\n",
    "output = []\n",
    "\n",
    "for i in inputs:\n",
    "    if i > 0:\n",
    "        output.append(i)\n",
    "    else:\n",
    "        output.append(0)\n",
    "\n",
    "output"
   ],
   "id": "4f98ef0628d86fd9",
   "outputs": [
    {
     "data": {
      "text/plain": [
       "[0, 2, 0, 3.3, 0, 1.1, 2.2, 0]"
      ]
     },
     "execution_count": 55,
     "metadata": {},
     "output_type": "execute_result"
    }
   ],
   "execution_count": 55
  },
  {
   "metadata": {
    "ExecuteTime": {
     "end_time": "2025-03-16T04:24:44.040408Z",
     "start_time": "2025-03-16T04:24:44.029464Z"
    }
   },
   "cell_type": "code",
   "source": [
    "# This can be written more simply, as we just need to take the largest of two values: 0 or neuron value\n",
    "output1 = []\n",
    "for i in inputs:\n",
    "    output1.append(max(0, i))\n",
    "\n",
    "output1"
   ],
   "id": "d5a2a2c394f47545",
   "outputs": [
    {
     "data": {
      "text/plain": [
       "[0, 2, 0, 3.3, 0, 1.1, 2.2, 0]"
      ]
     },
     "execution_count": 57,
     "metadata": {},
     "output_type": "execute_result"
    }
   ],
   "execution_count": 57
  },
  {
   "metadata": {
    "ExecuteTime": {
     "end_time": "2025-03-16T04:26:00.774704Z",
     "start_time": "2025-03-16T04:26:00.765171Z"
    }
   },
   "cell_type": "code",
   "source": [
    "# using NumPy\n",
    "np_output = np.maximum(0, inputs)\n",
    "np_output"
   ],
   "id": "5fc5534fa5809479",
   "outputs": [
    {
     "data": {
      "text/plain": [
       "array([0. , 2. , 0. , 3.3, 0. , 1.1, 2.2, 0. ])"
      ]
     },
     "execution_count": 60,
     "metadata": {},
     "output_type": "execute_result"
    }
   ],
   "execution_count": 60
  },
  {
   "metadata": {
    "ExecuteTime": {
     "end_time": "2025-03-16T04:27:45.649452Z",
     "start_time": "2025-03-16T04:27:45.641614Z"
    }
   },
   "cell_type": "code",
   "source": [
    "# ReLU activation class\n",
    "\n",
    "class Activation_ReLU:\n",
    "\n",
    "    # Forward pass\n",
    "    def forward(self, inputs):\n",
    "        # Calculate output values from input\n",
    "        self.output = np.maximum(0, inputs)\n"
   ],
   "id": "b4a23ea9251fe1b1",
   "outputs": [],
   "execution_count": 61
  },
  {
   "metadata": {
    "ExecuteTime": {
     "end_time": "2025-03-16T04:32:41.091612Z",
     "start_time": "2025-03-16T04:32:41.078126Z"
    }
   },
   "cell_type": "code",
   "source": [
    "# Create dataset\n",
    "X, y = spiral_data(samples=100, classes=3)\n",
    "\n",
    "# Create Dense layer with 2 input features and 3 output values\n",
    "dense1 = Layer_Dense(2, 3)\n",
    "\n",
    "# Create ReLU activation (to be used with Dense layer)\n",
    "activation1 = Activation_ReLU()\n",
    "\n",
    "# Make a forward pass of our training data through this layer\n",
    "dense1.forward(X)\n",
    "\n",
    "# Forward pass through activation function\n",
    "# Takes in output from previous layer\n",
    "activation1.forward(dense1.output)\n",
    "\n",
    "activation1.output.shape, activation1.output[:5]"
   ],
   "id": "8e1e79b6d9214dfe",
   "outputs": [
    {
     "data": {
      "text/plain": [
       "((300, 3),\n",
       " array([[0.0000000e+00, 0.0000000e+00, 0.0000000e+00],\n",
       "        [8.8871246e-05, 1.8308967e-04, 0.0000000e+00],\n",
       "        [2.0995355e-04, 3.5862427e-04, 0.0000000e+00],\n",
       "        [3.1263151e-04, 5.4185395e-04, 0.0000000e+00],\n",
       "        [4.2919873e-04, 6.4298225e-04, 0.0000000e+00]], dtype=float32))"
      ]
     },
     "execution_count": 66,
     "metadata": {},
     "output_type": "execute_result"
    }
   ],
   "execution_count": 66
  },
  {
   "metadata": {},
   "cell_type": "markdown",
   "source": [
    "# Softmax Function\n",
    "\n",
    "Also known as normalized exponential function, converts a vector of ``K`` real numners into a probability distribution of ``K`` possible outcomes.\n",
    "The softmax function takes as input a vector ``z`` of ``K`` real numbers, and normalizes it into a probability distribution consisting of ``K`` probabilities proportional to the exponentials of the input numbers. That is, prior to applying softmax, some vector components could be negative, or greater than one; and might not sum to 1; but after applying softmax, each component will be in the interval ``(0, 1)``, and the components will add up to 1, so that they can interpreters as probabilities. Furthermore, the larget input components will correspond to larger probabilities.\n",
    "\n",
    "### Why exponentiation?\n",
    "Exponentiation serves multiple purposes. To calculate the probabilities, we need non-negative values. Imagine that output as [4.8, 1.21, -2.45] - even after normalization, the last value will still be negative since we'll just divide all of them by their sum. A negative probablity (or confidence) does not make much sense. An exponential value of any number is always non-negative - it returns 0 for negative infinity, 1 for input of ``0``, and increases for positive values"
   ],
   "id": "651fb00aa5fc361a"
  },
  {
   "metadata": {
    "ExecuteTime": {
     "end_time": "2025-03-16T04:57:45.360787Z",
     "start_time": "2025-03-16T04:57:45.093992Z"
    }
   },
   "cell_type": "code",
   "source": [
    "x = np.linspace(-10, 10, 100) # generates 100 points between -2 and 2\n",
    "\n",
    "# compute y = e^x\n",
    "y = np.exp(x)\n",
    "\n",
    "# create the plot\n",
    "plt.plot(x, y, label=\"y = e^x\", color=\"green\")\n",
    "\n",
    "# Highlight the x-axis (y = 0)\n",
    "plt.axhline(0, color=\"black\", linewidth=1, linestyle=\"--\", label=\"x-axis (y = 0)\")\n",
    "\n",
    "# Highlight the y-axis (x = 0)\n",
    "plt.axvline(0, color=\"black\", linewidth=1, linestyle=\"--\", label=\"y-axis (x = 0)\")\n",
    "\n",
    "# add labels and title\n",
    "plt.xlabel(\"x\")\n",
    "plt.ylabel(\"y\")\n",
    "plt.title(\"Graph of y = e^x\")\n",
    "\n",
    "# Add grid\n",
    "plt.grid(True)\n",
    "\n",
    "# Add legend\n",
    "plt.legend()\n",
    "\n",
    "plt.show()"
   ],
   "id": "55034b3460665b46",
   "outputs": [
    {
     "data": {
      "text/plain": [
       "<Figure size 640x480 with 1 Axes>"
      ],
      "image/png": "[encoded data removed]"
     },
     "metadata": {},
     "output_type": "display_data"
    }
   ],
   "execution_count": 74
  },
  {
   "metadata": {
    "ExecuteTime": {
     "end_time": "2025-03-16T04:47:12.744866Z",
     "start_time": "2025-03-16T04:47:12.733925Z"
    }
   },
   "cell_type": "code",
   "source": [
    "import math\n",
    "# Values from the previous output when we described\n",
    "# what a neural network is\n",
    "layer_outputs = [4.8, 1.21, 2.385]\n",
    "\n",
    "# e - mathematical cosntant, we use E here to match a common coding\n",
    "# style where constants are uppercased\n",
    "E = math.e\n",
    "\n",
    "# for each value in a vector, calculate the exponential value\n",
    "exp_values = []\n",
    "\n",
    "for output in layer_outputs:\n",
    "    exp_values.append(E ** output)\n",
    "\n",
    "exp_values"
   ],
   "id": "e8e4246ee08b0976",
   "outputs": [
    {
     "data": {
      "text/plain": [
       "[121.51041751873483, 3.353484652549023, 10.859062664920513]"
      ]
     },
     "execution_count": 69,
     "metadata": {},
     "output_type": "execute_result"
    }
   ],
   "execution_count": 69
  },
  {
   "metadata": {
    "ExecuteTime": {
     "end_time": "2025-03-16T04:47:31.030591Z",
     "start_time": "2025-03-16T04:47:31.020016Z"
    }
   },
   "cell_type": "code",
   "source": "sum(exp_values)",
   "id": "843cbfc942e84ee8",
   "outputs": [
    {
     "data": {
      "text/plain": [
       "135.72296483620437"
      ]
     },
     "execution_count": 70,
     "metadata": {},
     "output_type": "execute_result"
    }
   ],
   "execution_count": 70
  },
  {
   "metadata": {},
   "cell_type": "markdown",
   "source": "The exponential function is a monotomic function. This means that, with higher input values, outputs are also higher, so we won't change the predicted class after applying it while making sure that we get non-negative values. It also adds stability to the result as the normalized exponentiation is more about the diferrence between numbers than their magnitudes. Once we've exponentiated, we want to convert these numbers to a pobability distribution (converting the values into the vector of confidense, one for each class, which add up to `1` for everything in the vector.) What that means is that we're about to performa normalization where we take a given value and divide it by the sum of all the values. Since each output value normalizes to a faction of the sum, all of the values are now in the range of ``0`` and ``1`` and add up to `1` - they share the probability of 1 between themselves.",
   "id": "646bbf13e0ea0d51"
  },
  {
   "metadata": {
    "ExecuteTime": {
     "end_time": "2025-03-16T05:05:50.221190Z",
     "start_time": "2025-03-16T05:05:50.212820Z"
    }
   },
   "cell_type": "code",
   "source": [
    "# Now normalizze values\n",
    "norm_base = sum(exp_values) # sum of all exponentiated values\n",
    "norm_values = []\n",
    "\n",
    "for value in exp_values:\n",
    "    norm_values.append(value / norm_base)\n",
    "\n",
    "print(f\"Normalized exponentiated values: {norm_values}\")\n",
    "print(f\"Sum of normalized values: {sum(norm_values)}\")"
   ],
   "id": "e28a2a1bbe006678",
   "outputs": [
    {
     "name": "stdout",
     "output_type": "stream",
     "text": [
      "Normalized exponentiated values: [0.8952826639572619, 0.024708306782099374, 0.0800090292606387]\n",
      "Sum of normalized values: 0.9999999999999999\n"
     ]
    }
   ],
   "execution_count": 77
  },
  {
   "metadata": {},
   "cell_type": "markdown",
   "source": "# Using NumPy for Softmax",
   "id": "a3981aaa9248daaa"
  },
  {
   "metadata": {
    "ExecuteTime": {
     "end_time": "2025-03-16T05:06:55.987746Z",
     "start_time": "2025-03-16T05:06:55.977512Z"
    }
   },
   "cell_type": "code",
   "source": [
    "exp_values = np.exp(layer_outputs)\n",
    "exp_values"
   ],
   "id": "21f719be45c2685e",
   "outputs": [
    {
     "data": {
      "text/plain": [
       "array([121.51041752,   3.35348465,  10.85906266])"
      ]
     },
     "execution_count": 78,
     "metadata": {},
     "output_type": "execute_result"
    }
   ],
   "execution_count": 78
  },
  {
   "metadata": {
    "ExecuteTime": {
     "end_time": "2025-03-16T05:07:39.922542Z",
     "start_time": "2025-03-16T05:07:39.913660Z"
    }
   },
   "cell_type": "code",
   "source": [
    "# normalize values\n",
    "norm_values_np = exp_values / np.sum(exp_values)\n",
    "norm_values_np"
   ],
   "id": "137c872bc0538924",
   "outputs": [
    {
     "data": {
      "text/plain": [
       "array([0.89528266, 0.02470831, 0.08000903])"
      ]
     },
     "execution_count": 79,
     "metadata": {},
     "output_type": "execute_result"
    }
   ],
   "execution_count": 79
  },
  {
   "metadata": {
    "ExecuteTime": {
     "end_time": "2025-03-16T05:07:47.623978Z",
     "start_time": "2025-03-16T05:07:47.614612Z"
    }
   },
   "cell_type": "code",
   "source": "sum(norm_values_np)",
   "id": "b0e545fcfb972c0",
   "outputs": [
    {
     "data": {
      "text/plain": [
       "np.float64(0.9999999999999999)"
      ]
     },
     "execution_count": 80,
     "metadata": {},
     "output_type": "execute_result"
    }
   ],
   "execution_count": 80
  },
  {
   "metadata": {},
   "cell_type": "markdown",
   "source": "To train in batches, we need to convert this functionality to accept layer outputs in batches",
   "id": "f0b3fcb8bdff67f4"
  },
  {
   "metadata": {
    "ExecuteTime": {
     "end_time": "2025-03-16T05:13:25.508Z",
     "start_time": "2025-03-16T05:13:25.496208Z"
    }
   },
   "cell_type": "code",
   "source": [
    "inputs = [[1.0, 2.0, 3.0, 2.5],\n",
    "            [2.0, 5.0, -1.0, 2.0],\n",
    "            [-1.5, 2.7, 3.3, -0.8]]\n",
    "\n",
    "# Get normalized probabilities\n",
    "exp_values = np.exp(inputs)\n",
    "\n",
    "# normalize them for each sample\n",
    "probabilities = exp_values / np.sum(exp_values, axis=1, keepdims=True)\n",
    "probabilities"
   ],
   "id": "d14e55e07b8c038d",
   "outputs": [
    {
     "data": {
      "text/plain": [
       "array([[0.06414769, 0.17437149, 0.47399085, 0.28748998],\n",
       "       [0.04517666, 0.90739747, 0.00224921, 0.04517666],\n",
       "       [0.00522984, 0.34875873, 0.63547983, 0.0105316 ]])"
      ]
     },
     "execution_count": 85,
     "metadata": {},
     "output_type": "execute_result"
    }
   ],
   "execution_count": 85
  },
  {
   "metadata": {},
   "cell_type": "markdown",
   "source": "### Illustrate Axis",
   "id": "2aeab6b3125ec6d0"
  },
  {
   "metadata": {
    "ExecuteTime": {
     "end_time": "2025-03-16T05:15:39.732944Z",
     "start_time": "2025-03-16T05:15:39.720528Z"
    }
   },
   "cell_type": "code",
   "source": [
    "layer_outputs = np.array([[4.8, 1.21, 2.385],\n",
    "                            [8.9, -1.81, 0.2],\n",
    "                            [1.41, 1.051, 0.026]])\n",
    "\n",
    "print('sum without axis')\n",
    "np.sum(layer_outputs).item()"
   ],
   "id": "bd440819bb083738",
   "outputs": [
    {
     "name": "stdout",
     "output_type": "stream",
     "text": [
      "sum without axis\n"
     ]
    },
    {
     "data": {
      "text/plain": [
       "18.172"
      ]
     },
     "execution_count": 88,
     "metadata": {},
     "output_type": "execute_result"
    }
   ],
   "execution_count": 88
  },
  {
   "metadata": {
    "ExecuteTime": {
     "end_time": "2025-03-16T05:16:27.767213Z",
     "start_time": "2025-03-16T05:16:27.757255Z"
    }
   },
   "cell_type": "code",
   "source": [
    "print(\"This is identical to the above sine default is None\")\n",
    "np.sum(layer_outputs, axis=None).item()"
   ],
   "id": "31a7e6907f8b05de",
   "outputs": [
    {
     "name": "stdout",
     "output_type": "stream",
     "text": [
      "This is identical to the above sine default is None\n"
     ]
    },
    {
     "data": {
      "text/plain": [
       "18.172"
      ]
     },
     "execution_count": 89,
     "metadata": {},
     "output_type": "execute_result"
    }
   ],
   "execution_count": 89
  },
  {
   "metadata": {},
   "cell_type": "markdown",
   "source": "With no axis specified, we are just summing all of the values, even if they're in varying dimensions. Next, `axis=0`. this means sum row-wise, along axis `0`. In other words, the output has the same size as this axis, as at each of the positions of this output, the values from all the other dimensions at this position are summed to form it. In the case of our 2D array, where we have only a single other dimension, the columns , the output vector will sum these columns.",
   "id": "a8997afd30753b6a"
  },
  {
   "metadata": {
    "ExecuteTime": {
     "end_time": "2025-03-16T05:21:24.438364Z",
     "start_time": "2025-03-16T05:21:24.427690Z"
    }
   },
   "cell_type": "code",
   "source": [
    "print('another way to think of it w/ a matrix == axis 0: columns:')\n",
    "np.sum(layer_outputs, axis=0)"
   ],
   "id": "813eda3074044a5e",
   "outputs": [
    {
     "name": "stdout",
     "output_type": "stream",
     "text": [
      "another way to think of it w/ a matrix == axis 0: columns:\n"
     ]
    },
    {
     "data": {
      "text/plain": [
       "array([15.11 ,  0.451,  2.611])"
      ]
     },
     "execution_count": 94,
     "metadata": {},
     "output_type": "execute_result"
    }
   ],
   "execution_count": 94
  },
  {
   "metadata": {
    "ExecuteTime": {
     "end_time": "2025-03-16T05:22:19.609729Z",
     "start_time": "2025-03-16T05:22:19.599757Z"
    }
   },
   "cell_type": "code",
   "source": "np.sum(layer_outputs, axis=1)",
   "id": "597d40b44095a85d",
   "outputs": [
    {
     "data": {
      "text/plain": [
       "array([8.395, 7.29 , 2.487])"
      ]
     },
     "execution_count": 95,
     "metadata": {},
     "output_type": "execute_result"
    }
   ],
   "execution_count": 95
  },
  {
   "metadata": {
    "ExecuteTime": {
     "end_time": "2025-03-16T05:23:29.204830Z",
     "start_time": "2025-03-16T05:23:29.194160Z"
    }
   },
   "cell_type": "code",
   "source": [
    "print(\"Sum axis 1, but keep the same dimensions as input:\")\n",
    "np.sum(layer_outputs, axis=1, keepdims=True)"
   ],
   "id": "d6b16a66bd1e4554",
   "outputs": [
    {
     "name": "stdout",
     "output_type": "stream",
     "text": [
      "Sum axis 1, but keep the same dimensions as input:\n"
     ]
    },
    {
     "data": {
      "text/plain": [
       "array([[8.395],\n",
       "       [7.29 ],\n",
       "       [2.487]])"
      ]
     },
     "execution_count": 96,
     "metadata": {},
     "output_type": "execute_result"
    }
   ],
   "execution_count": 96
  },
  {
   "metadata": {},
   "cell_type": "markdown",
   "source": "# Softmax Activation",
   "id": "16a3a7b1b1ea30b4"
  },
  {
   "metadata": {
    "ExecuteTime": {
     "end_time": "2025-03-16T07:39:31.583532Z",
     "start_time": "2025-03-16T07:39:31.532750Z"
    }
   },
   "cell_type": "code",
   "source": "np.max(inputs, axis=1, keepdims=True)",
   "id": "ca51082bc327bab5",
   "outputs": [
    {
     "data": {
      "text/plain": [
       "array([[3. ],\n",
       "       [5. ],\n",
       "       [3.3]])"
      ]
     },
     "execution_count": 97,
     "metadata": {},
     "output_type": "execute_result"
    }
   ],
   "execution_count": 97
  },
  {
   "metadata": {
    "ExecuteTime": {
     "end_time": "2025-03-16T07:51:28.577589Z",
     "start_time": "2025-03-16T07:51:28.569665Z"
    }
   },
   "cell_type": "code",
   "source": [
    "class Activation_Softmax:\n",
    "\n",
    "    # forward pass\n",
    "    def forward(self, inputs):\n",
    "\n",
    "        # Get unnormalized probabilities\n",
    "        exp_values = np.exp(inputs - np.max(inputs, axis=1, keepdims=True))\n",
    "\n",
    "        # Normalize them for each sample\n",
    "        probabilities = exp_values / np.sum(exp_values, axis=1, keepdims=True)\n",
    "\n",
    "        self.output = probabilities\n"
   ],
   "id": "3d252b4a4be88a63",
   "outputs": [],
   "execution_count": 105
  },
  {
   "metadata": {},
   "cell_type": "markdown",
   "source": "There are two main pervasive challenges with neural networks: \"dead neurons\" and very large (referred to as \"exploding\" values). \"Dead\" neurons and enormous numbers can wreak havoc down the line and render a network useless overtime. The exponential function used in softmax activation is one of the sources of exploding values.\n",
   "id": "c48d2dfa024f0fcc"
  },
  {
   "metadata": {
    "ExecuteTime": {
     "end_time": "2025-03-16T07:46:20.191637Z",
     "start_time": "2025-03-16T07:46:20.182964Z"
    }
   },
   "cell_type": "code",
   "source": "np.exp(10).item()",
   "id": "cabdcad3f4f77acf",
   "outputs": [
    {
     "data": {
      "text/plain": [
       "22026.465794806718"
      ]
     },
     "execution_count": 99,
     "metadata": {},
     "output_type": "execute_result"
    }
   ],
   "execution_count": 99
  },
  {
   "metadata": {
    "ExecuteTime": {
     "end_time": "2025-03-16T07:46:27.485902Z",
     "start_time": "2025-03-16T07:46:27.477281Z"
    }
   },
   "cell_type": "code",
   "source": "np.exp(100).item()",
   "id": "b22fcc5c97545b5d",
   "outputs": [
    {
     "data": {
      "text/plain": [
       "2.6881171418161356e+43"
      ]
     },
     "execution_count": 100,
     "metadata": {},
     "output_type": "execute_result"
    }
   ],
   "execution_count": 100
  },
  {
   "metadata": {
    "ExecuteTime": {
     "end_time": "2025-03-16T07:46:35.206890Z",
     "start_time": "2025-03-16T07:46:35.195149Z"
    }
   },
   "cell_type": "code",
   "source": "np.exp(1000).item()",
   "id": "a0e07545d66fe593",
   "outputs": [
    {
     "name": "stderr",
     "output_type": "stream",
     "text": [
      "C:\\Users\\linho\\AppData\\Local\\Temp\\ipykernel_11440\\2809462821.py:1: RuntimeWarning: overflow encountered in exp\n",
      "  np.exp(1000).item()\n"
     ]
    },
    {
     "data": {
      "text/plain": [
       "inf"
      ]
     },
     "execution_count": 101,
     "metadata": {},
     "output_type": "execute_result"
    }
   ],
   "execution_count": 101
  },
  {
   "metadata": {},
   "cell_type": "markdown",
   "source": "It doesn't take a very large number, in this case, a mere 1,000 to cayse an overflow error. We know the expoentnial function tends toward `0` as its inputs value approaches negative infinity, and the output is `1` when the input is `0`",
   "id": "4e29a0dae8fbe4f4"
  },
  {
   "metadata": {
    "ExecuteTime": {
     "end_time": "2025-03-16T07:48:27.562432Z",
     "start_time": "2025-03-16T07:48:27.552779Z"
    }
   },
   "cell_type": "code",
   "source": "np.exp(-np.inf).item(), np.exp(0).item()",
   "id": "8f9c7f6a09fd6574",
   "outputs": [
    {
     "data": {
      "text/plain": [
       "(0.0, 1.0)"
      ]
     },
     "execution_count": 103,
     "metadata": {},
     "output_type": "execute_result"
    }
   ],
   "execution_count": 103
  },
  {
   "metadata": {},
   "cell_type": "markdown",
   "source": "We can use this property to prevent the exponential function from overflowing. Suppose we subtract the maximum value from a list of input values. We would then change the output values to always be in a range from some negative value up to 0, as the largest number subtracted by itself returns 0, and any smaller number subtracted by it will result in a negative number - exactly the range discussed above. With Softmax, thanks to normalization, we can subtract any value from all of the inputs, and it will not change the output:",
   "id": "ee548956aaa8d476"
  },
  {
   "metadata": {
    "ExecuteTime": {
     "end_time": "2025-03-16T07:57:26.231897Z",
     "start_time": "2025-03-16T07:57:26.222Z"
    }
   },
   "cell_type": "code",
   "source": [
    "softmax = Activation_Softmax()\n",
    "\n",
    "input = np.array([[1, 2, 6]])\n",
    "softmax.forward(input)\n",
    "softmax.output.shape, softmax.output"
   ],
   "id": "7051ccd065507c90",
   "outputs": [
    {
     "data": {
      "text/plain": [
       "((1, 3), array([[0.00657326, 0.01786798, 0.97555875]]))"
      ]
     },
     "execution_count": 123,
     "metadata": {},
     "output_type": "execute_result"
    }
   ],
   "execution_count": 123
  },
  {
   "metadata": {
    "ExecuteTime": {
     "end_time": "2025-03-16T07:57:27.019601Z",
     "start_time": "2025-03-16T07:57:27.010598Z"
    }
   },
   "cell_type": "code",
   "source": [
    "input1 = input - np.max(input, axis=1, keepdims=True)\n",
    "input1,"
   ],
   "id": "9ed7b3a2008b7fc0",
   "outputs": [
    {
     "data": {
      "text/plain": [
       "(array([[-5, -4,  0]]),)"
      ]
     },
     "execution_count": 124,
     "metadata": {},
     "output_type": "execute_result"
    }
   ],
   "execution_count": 124
  },
  {
   "metadata": {
    "ExecuteTime": {
     "end_time": "2025-03-16T07:57:27.801305Z",
     "start_time": "2025-03-16T07:57:27.791382Z"
    }
   },
   "cell_type": "code",
   "source": [
    "softmax.forward(input1)\n",
    "softmax.output,"
   ],
   "id": "16f68f344261c8a4",
   "outputs": [
    {
     "data": {
      "text/plain": [
       "(array([[0.00657326, 0.01786798, 0.97555875]]),)"
      ]
     },
     "execution_count": 125,
     "metadata": {},
     "output_type": "execute_result"
    }
   ],
   "execution_count": 125
  },
  {
   "metadata": {},
   "cell_type": "markdown",
   "source": [
    "### What happens if we divide the layer's output data, [1, 2, 6], for example, by 2?\n",
    "\n",
    "The output confidences change due to the nonlinearity nature of the exponentiation. This is one example of why we need to scale all of the input data to a neural network in the same way."
   ],
   "id": "bfddfcf84b888d1b"
  },
  {
   "metadata": {
    "ExecuteTime": {
     "end_time": "2025-03-16T07:57:30.202642Z",
     "start_time": "2025-03-16T07:57:30.193113Z"
    }
   },
   "cell_type": "code",
   "source": [
    "input2 = input / 2\n",
    "input2"
   ],
   "id": "d812924933d2da16",
   "outputs": [
    {
     "data": {
      "text/plain": [
       "array([[0.5, 1. , 3. ]])"
      ]
     },
     "execution_count": 126,
     "metadata": {},
     "output_type": "execute_result"
    }
   ],
   "execution_count": 126
  },
  {
   "metadata": {
    "ExecuteTime": {
     "end_time": "2025-03-16T07:57:47.106857Z",
     "start_time": "2025-03-16T07:57:47.096499Z"
    }
   },
   "cell_type": "code",
   "source": [
    "softmax.forward(input2)\n",
    "softmax.output,"
   ],
   "id": "70a7df768392f0a",
   "outputs": [
    {
     "data": {
      "text/plain": [
       "(array([[0.06742536, 0.11116562, 0.82140902]]),)"
      ]
     },
     "execution_count": 127,
     "metadata": {},
     "output_type": "execute_result"
    }
   ],
   "execution_count": 127
  },
  {
   "metadata": {},
   "cell_type": "markdown",
   "source": "Now, we can add another dense layer as the output layer, setting it to contain as many inputs as the previous layer had outputs and many outputs as our data includes classes. Then we can apply the softmax activation to the output of this new layer.",
   "id": "3270292000ec2b97"
  },
  {
   "metadata": {
    "ExecuteTime": {
     "end_time": "2025-03-16T08:07:29.372219Z",
     "start_time": "2025-03-16T08:07:29.357966Z"
    }
   },
   "cell_type": "code",
   "source": [
    "# Create dataset\n",
    "X, y = spiral_data(samples=100, classes=3)\n",
    "\n",
    "# Create Dense layer with 2 input features and 3 output values\n",
    "dense1 = Layer_Dense(2, 3)\n",
    "\n",
    "# Create ReLU activation (to be used with Dense layer):\n",
    "activation1 = Activation_ReLU()\n",
    "\n",
    "# Create second Dense layer with 3 input features ( as we take output\n",
    "# of previous layer here) and 3 output values\n",
    "dense2 = Layer_Dense(3, 3)\n",
    "\n",
    "# Create Softmax activation (to be used with Dense layer)\n",
    "activation2 = Activation_Softmax()\n",
    "\n",
    "# Make a forward pass of our training data through this layer\n",
    "dense1.forward(X)\n",
    "\n",
    "# Make a forward pass through activation function\n",
    "# it takes the output of first dense layer here\n",
    "activation1.forward(dense1.output)\n",
    "\n",
    "# Make a forward pass through second Dense layer\n",
    "# it takes outputs of activation function of first layer as inputs\n",
    "dense2.forward(activation1.output)\n",
    "\n",
    "# Make a forward pass through activation function\n",
    "# it take the output of second dense layer here\n",
    "activation2.forward(dense2.output)\n",
    "\n",
    "activation2.output[:5], activation2.output.shape"
   ],
   "id": "9ac26927c035e766",
   "outputs": [
    {
     "data": {
      "text/plain": [
       "(array([[0.33333334, 0.33333334, 0.33333334],\n",
       "        [0.33333308, 0.3333332 , 0.33333376],\n",
       "        [0.3333331 , 0.3333331 , 0.33333382],\n",
       "        [0.33333296, 0.33333296, 0.3333341 ],\n",
       "        [0.33333278, 0.33333278, 0.33333448]], dtype=float32),\n",
       " (300, 3))"
      ]
     },
     "execution_count": 129,
     "metadata": {},
     "output_type": "execute_result"
    }
   ],
   "execution_count": 129
  },
  {
   "metadata": {},
   "cell_type": "code",
   "outputs": [],
   "execution_count": null,
   "source": "",
   "id": "d76c120896941223"
  }
 ],
 "metadata": {
  "kernelspec": {
   "display_name": "Python 3",
   "language": "python",
   "name": "python3"
  },
  "language_info": {
   "codemirror_mode": {
    "name": "ipython",
    "version": 2
   },
   "file_extension": ".py",
   "mimetype": "text/x-python",
   "name": "python",
   "nbconvert_exporter": "python",
   "pygments_lexer": "ipython2",
   "version": "2.7.6"
  }
 },
 "nbformat": 4,
 "nbformat_minor": 5
}
